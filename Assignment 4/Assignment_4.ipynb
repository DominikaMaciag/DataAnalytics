{
 "cells": [
  {
   "cell_type": "markdown",
   "id": "c5bfebb5",
   "metadata": {},
   "source": [
    "# Assignment 4\n",
    "author: Dominika Maciąg"
   ]
  },
  {
   "cell_type": "code",
   "execution_count": 183,
   "id": "2baf0ed2",
   "metadata": {},
   "outputs": [
    {
     "data": {
      "text/html": [
       "<div>\n",
       "<style scoped>\n",
       "    .dataframe tbody tr th:only-of-type {\n",
       "        vertical-align: middle;\n",
       "    }\n",
       "\n",
       "    .dataframe tbody tr th {\n",
       "        vertical-align: top;\n",
       "    }\n",
       "\n",
       "    .dataframe thead th {\n",
       "        text-align: right;\n",
       "    }\n",
       "</style>\n",
       "<table border=\"1\" class=\"dataframe\">\n",
       "  <thead>\n",
       "    <tr style=\"text-align: right;\">\n",
       "      <th></th>\n",
       "      <th>name</th>\n",
       "      <th>review</th>\n",
       "      <th>rating</th>\n",
       "    </tr>\n",
       "  </thead>\n",
       "  <tbody>\n",
       "    <tr>\n",
       "      <th>0</th>\n",
       "      <td>Planetwise Flannel Wipes</td>\n",
       "      <td>These flannel wipes are OK, but in my opinion ...</td>\n",
       "      <td>3</td>\n",
       "    </tr>\n",
       "    <tr>\n",
       "      <th>1</th>\n",
       "      <td>Planetwise Wipe Pouch</td>\n",
       "      <td>it came early and was not disappointed. i love...</td>\n",
       "      <td>5</td>\n",
       "    </tr>\n",
       "    <tr>\n",
       "      <th>2</th>\n",
       "      <td>Annas Dream Full Quilt with 2 Shams</td>\n",
       "      <td>Very soft and comfortable and warmer than it l...</td>\n",
       "      <td>5</td>\n",
       "    </tr>\n",
       "    <tr>\n",
       "      <th>3</th>\n",
       "      <td>Stop Pacifier Sucking without tears with Thumb...</td>\n",
       "      <td>This is a product well worth the purchase.  I ...</td>\n",
       "      <td>5</td>\n",
       "    </tr>\n",
       "    <tr>\n",
       "      <th>4</th>\n",
       "      <td>Stop Pacifier Sucking without tears with Thumb...</td>\n",
       "      <td>All of my kids have cried non-stop when I trie...</td>\n",
       "      <td>5</td>\n",
       "    </tr>\n",
       "  </tbody>\n",
       "</table>\n",
       "</div>"
      ],
      "text/plain": [
       "                                                name  \\\n",
       "0                           Planetwise Flannel Wipes   \n",
       "1                              Planetwise Wipe Pouch   \n",
       "2                Annas Dream Full Quilt with 2 Shams   \n",
       "3  Stop Pacifier Sucking without tears with Thumb...   \n",
       "4  Stop Pacifier Sucking without tears with Thumb...   \n",
       "\n",
       "                                              review  rating  \n",
       "0  These flannel wipes are OK, but in my opinion ...       3  \n",
       "1  it came early and was not disappointed. i love...       5  \n",
       "2  Very soft and comfortable and warmer than it l...       5  \n",
       "3  This is a product well worth the purchase.  I ...       5  \n",
       "4  All of my kids have cried non-stop when I trie...       5  "
      ]
     },
     "execution_count": 183,
     "metadata": {},
     "output_type": "execute_result"
    }
   ],
   "source": [
    "import pandas as pd\n",
    "import numpy as np\n",
    "import matplotlib.pyplot as plt\n",
    "import string\n",
    "from sklearn.linear_model import LogisticRegression\n",
    "\n",
    "def remove_punctuation(text):\n",
    "    import string\n",
    "    translator = str.maketrans('', '', string.punctuation)\n",
    "    return text.translate(translator)\n",
    "\n",
    "baby_df = pd.read_csv('amazon_baby.csv')\n",
    "baby_df.head()"
   ]
  },
  {
   "cell_type": "markdown",
   "id": "f88a00ea",
   "metadata": {},
   "source": [
    "## Exercise 1 (data preparation)\n",
    "a) Remove punctuation from reviews using the given function.   \n",
    "b) Replace all missing (nan) revies with empty \"\" string.  \n",
    "c) Drop all the entries with rating = 3, as they have neutral sentiment.   \n",
    "d) Set all positive ($\\geq$4) ratings to 1 and negative($\\leq$2) to -1."
   ]
  },
  {
   "cell_type": "code",
   "execution_count": 184,
   "id": "9f8f2020",
   "metadata": {},
   "outputs": [
    {
     "name": "stdout",
     "output_type": "stream",
     "text": [
      "before replacement:  nan\n",
      "after replacement:  \n"
     ]
    },
    {
     "data": {
      "text/plain": [
       "True"
      ]
     },
     "execution_count": 184,
     "metadata": {},
     "output_type": "execute_result"
    }
   ],
   "source": [
    "# b) Replace all missing (nan) revies with empty \"\" string.\n",
    "# To aply given function we need firstly to remove all the NaN from \"review\" row in our dataframe.\n",
    "\n",
    "print(\"before replacement: \", baby_df[\"review\"][38])\n",
    "baby_df[\"review\"].replace(np.nan, \"\", inplace=True)\n",
    "print(\"after replacement: \", baby_df[\"review\"][38])\n",
    "\n",
    "#short test:\n",
    "baby_df[\"review\"][38] == baby_df[\"review\"][38]"
   ]
  },
  {
   "cell_type": "code",
   "execution_count": 185,
   "id": "7756d8e4",
   "metadata": {},
   "outputs": [
    {
     "data": {
      "text/plain": [
       "True"
      ]
     },
     "execution_count": 185,
     "metadata": {},
     "output_type": "execute_result"
    }
   ],
   "source": [
    "#a) Remove punctuation from reviews using the given function.\n",
    "baby_df[\"review\"] = baby_df[\"review\"].apply(remove_punctuation)\n",
    "\n",
    "# short test: \n",
    "baby_df[\"review\"][4] == 'All of my kids have cried nonstop when I tried to ween them off their pacifier until I found Thumbuddy To Loves Binky Fairy Puppet  It is an easy way to work with your kids to allow them to understand where their pacifier is going and help them part from itThis is a must buy book and a great gift for expecting parents  You will save them soo many headachesThanks for this book  You all rock'\n",
    "remove_punctuation(baby_df[\"review\"][4]) == 'All of my kids have cried nonstop when I tried to ween them off their pacifier until I found Thumbuddy To Loves Binky Fairy Puppet  It is an easy way to work with your kids to allow them to understand where their pacifier is going and help them part from itThis is a must buy book and a great gift for expecting parents  You will save them soo many headachesThanks for this book  You all rock'"
   ]
  },
  {
   "cell_type": "code",
   "execution_count": 186,
   "id": "221e5ea5",
   "metadata": {},
   "outputs": [
    {
     "data": {
      "text/plain": [
       "0"
      ]
     },
     "execution_count": 186,
     "metadata": {},
     "output_type": "execute_result"
    }
   ],
   "source": [
    "#c) Drop all the entries with rating = 3, as they have neutral sentiment.\n",
    "rows = len(baby_df.index)\n",
    "\n",
    "for i in range(0,rows):\n",
    "    if(baby_df[\"rating\"][i]==3):\n",
    "        baby_df.drop(i, inplace=True)\n",
    "#         print(baby_df[\"rating\"][i])\n",
    "    \n",
    "#short test:\n",
    "sum(baby_df[\"rating\"] == 3)"
   ]
  },
  {
   "cell_type": "code",
   "execution_count": 187,
   "id": "a7d4b1f5",
   "metadata": {},
   "outputs": [
    {
     "data": {
      "text/html": [
       "<div>\n",
       "<style scoped>\n",
       "    .dataframe tbody tr th:only-of-type {\n",
       "        vertical-align: middle;\n",
       "    }\n",
       "\n",
       "    .dataframe tbody tr th {\n",
       "        vertical-align: top;\n",
       "    }\n",
       "\n",
       "    .dataframe thead th {\n",
       "        text-align: right;\n",
       "    }\n",
       "</style>\n",
       "<table border=\"1\" class=\"dataframe\">\n",
       "  <thead>\n",
       "    <tr style=\"text-align: right;\">\n",
       "      <th></th>\n",
       "      <th>name</th>\n",
       "      <th>review</th>\n",
       "      <th>rating</th>\n",
       "    </tr>\n",
       "  </thead>\n",
       "  <tbody>\n",
       "    <tr>\n",
       "      <th>1</th>\n",
       "      <td>Planetwise Wipe Pouch</td>\n",
       "      <td>it came early and was not disappointed i love ...</td>\n",
       "      <td>5</td>\n",
       "    </tr>\n",
       "    <tr>\n",
       "      <th>2</th>\n",
       "      <td>Annas Dream Full Quilt with 2 Shams</td>\n",
       "      <td>Very soft and comfortable and warmer than it l...</td>\n",
       "      <td>5</td>\n",
       "    </tr>\n",
       "    <tr>\n",
       "      <th>3</th>\n",
       "      <td>Stop Pacifier Sucking without tears with Thumb...</td>\n",
       "      <td>This is a product well worth the purchase  I h...</td>\n",
       "      <td>5</td>\n",
       "    </tr>\n",
       "    <tr>\n",
       "      <th>4</th>\n",
       "      <td>Stop Pacifier Sucking without tears with Thumb...</td>\n",
       "      <td>All of my kids have cried nonstop when I tried...</td>\n",
       "      <td>5</td>\n",
       "    </tr>\n",
       "    <tr>\n",
       "      <th>5</th>\n",
       "      <td>Stop Pacifier Sucking without tears with Thumb...</td>\n",
       "      <td>When the Binky Fairy came to our house we didn...</td>\n",
       "      <td>5</td>\n",
       "    </tr>\n",
       "    <tr>\n",
       "      <th>6</th>\n",
       "      <td>A Tale of Baby's Days with Peter Rabbit</td>\n",
       "      <td>Lovely book its bound tightly so you may not b...</td>\n",
       "      <td>4</td>\n",
       "    </tr>\n",
       "    <tr>\n",
       "      <th>7</th>\n",
       "      <td>Baby Tracker&amp;reg; - Daily Childcare Journal, S...</td>\n",
       "      <td>Perfect for new parents We were able to keep t...</td>\n",
       "      <td>5</td>\n",
       "    </tr>\n",
       "    <tr>\n",
       "      <th>8</th>\n",
       "      <td>Baby Tracker&amp;reg; - Daily Childcare Journal, S...</td>\n",
       "      <td>A friend of mine pinned this product on Pinter...</td>\n",
       "      <td>5</td>\n",
       "    </tr>\n",
       "    <tr>\n",
       "      <th>9</th>\n",
       "      <td>Baby Tracker&amp;reg; - Daily Childcare Journal, S...</td>\n",
       "      <td>This has been an easy way for my nanny to reco...</td>\n",
       "      <td>4</td>\n",
       "    </tr>\n",
       "    <tr>\n",
       "      <th>10</th>\n",
       "      <td>Baby Tracker&amp;reg; - Daily Childcare Journal, S...</td>\n",
       "      <td>I love this journal and our nanny uses it ever...</td>\n",
       "      <td>4</td>\n",
       "    </tr>\n",
       "    <tr>\n",
       "      <th>11</th>\n",
       "      <td>Baby Tracker&amp;reg; - Daily Childcare Journal, S...</td>\n",
       "      <td>This book is perfect  Im a first time new mom ...</td>\n",
       "      <td>5</td>\n",
       "    </tr>\n",
       "    <tr>\n",
       "      <th>12</th>\n",
       "      <td>Baby Tracker&amp;reg; - Daily Childcare Journal, S...</td>\n",
       "      <td>I originally just gave the nanny a pad of pape...</td>\n",
       "      <td>4</td>\n",
       "    </tr>\n",
       "    <tr>\n",
       "      <th>14</th>\n",
       "      <td>Nature's Lullabies First Year Sticker Calendar</td>\n",
       "      <td>Space for monthly photos info and a lot of use...</td>\n",
       "      <td>5</td>\n",
       "    </tr>\n",
       "    <tr>\n",
       "      <th>15</th>\n",
       "      <td>Nature's Lullabies First Year Sticker Calendar</td>\n",
       "      <td>I bought this calender for myself for my secon...</td>\n",
       "      <td>4</td>\n",
       "    </tr>\n",
       "    <tr>\n",
       "      <th>16</th>\n",
       "      <td>Nature's Lullabies First Year Sticker Calendar</td>\n",
       "      <td>I love this little calender you can keep track...</td>\n",
       "      <td>5</td>\n",
       "    </tr>\n",
       "    <tr>\n",
       "      <th>17</th>\n",
       "      <td>Nature's Lullabies Second Year Sticker Calendar</td>\n",
       "      <td>This was the only calender I could find for th...</td>\n",
       "      <td>5</td>\n",
       "    </tr>\n",
       "    <tr>\n",
       "      <th>18</th>\n",
       "      <td>Nature's Lullabies Second Year Sticker Calendar</td>\n",
       "      <td>I completed a calendar for my sons first year ...</td>\n",
       "      <td>4</td>\n",
       "    </tr>\n",
       "    <tr>\n",
       "      <th>19</th>\n",
       "      <td>Nature's Lullabies Second Year Sticker Calendar</td>\n",
       "      <td>We wanted to get something to keep track of ou...</td>\n",
       "      <td>5</td>\n",
       "    </tr>\n",
       "    <tr>\n",
       "      <th>20</th>\n",
       "      <td>Nature's Lullabies Second Year Sticker Calendar</td>\n",
       "      <td>I had a hard time finding a second year calend...</td>\n",
       "      <td>5</td>\n",
       "    </tr>\n",
       "    <tr>\n",
       "      <th>21</th>\n",
       "      <td>Nature's Lullabies Second Year Sticker Calendar</td>\n",
       "      <td>I only purchased a secondyear calendar for my ...</td>\n",
       "      <td>2</td>\n",
       "    </tr>\n",
       "  </tbody>\n",
       "</table>\n",
       "</div>"
      ],
      "text/plain": [
       "                                                 name  \\\n",
       "1                               Planetwise Wipe Pouch   \n",
       "2                 Annas Dream Full Quilt with 2 Shams   \n",
       "3   Stop Pacifier Sucking without tears with Thumb...   \n",
       "4   Stop Pacifier Sucking without tears with Thumb...   \n",
       "5   Stop Pacifier Sucking without tears with Thumb...   \n",
       "6             A Tale of Baby's Days with Peter Rabbit   \n",
       "7   Baby Tracker&reg; - Daily Childcare Journal, S...   \n",
       "8   Baby Tracker&reg; - Daily Childcare Journal, S...   \n",
       "9   Baby Tracker&reg; - Daily Childcare Journal, S...   \n",
       "10  Baby Tracker&reg; - Daily Childcare Journal, S...   \n",
       "11  Baby Tracker&reg; - Daily Childcare Journal, S...   \n",
       "12  Baby Tracker&reg; - Daily Childcare Journal, S...   \n",
       "14     Nature's Lullabies First Year Sticker Calendar   \n",
       "15     Nature's Lullabies First Year Sticker Calendar   \n",
       "16     Nature's Lullabies First Year Sticker Calendar   \n",
       "17    Nature's Lullabies Second Year Sticker Calendar   \n",
       "18    Nature's Lullabies Second Year Sticker Calendar   \n",
       "19    Nature's Lullabies Second Year Sticker Calendar   \n",
       "20    Nature's Lullabies Second Year Sticker Calendar   \n",
       "21    Nature's Lullabies Second Year Sticker Calendar   \n",
       "\n",
       "                                               review  rating  \n",
       "1   it came early and was not disappointed i love ...       5  \n",
       "2   Very soft and comfortable and warmer than it l...       5  \n",
       "3   This is a product well worth the purchase  I h...       5  \n",
       "4   All of my kids have cried nonstop when I tried...       5  \n",
       "5   When the Binky Fairy came to our house we didn...       5  \n",
       "6   Lovely book its bound tightly so you may not b...       4  \n",
       "7   Perfect for new parents We were able to keep t...       5  \n",
       "8   A friend of mine pinned this product on Pinter...       5  \n",
       "9   This has been an easy way for my nanny to reco...       4  \n",
       "10  I love this journal and our nanny uses it ever...       4  \n",
       "11  This book is perfect  Im a first time new mom ...       5  \n",
       "12  I originally just gave the nanny a pad of pape...       4  \n",
       "14  Space for monthly photos info and a lot of use...       5  \n",
       "15  I bought this calender for myself for my secon...       4  \n",
       "16  I love this little calender you can keep track...       5  \n",
       "17  This was the only calender I could find for th...       5  \n",
       "18  I completed a calendar for my sons first year ...       4  \n",
       "19  We wanted to get something to keep track of ou...       5  \n",
       "20  I had a hard time finding a second year calend...       5  \n",
       "21  I only purchased a secondyear calendar for my ...       2  "
      ]
     },
     "execution_count": 187,
     "metadata": {},
     "output_type": "execute_result"
    }
   ],
   "source": [
    "baby_df.head(20)"
   ]
  },
  {
   "cell_type": "code",
   "execution_count": 188,
   "id": "277da7b6",
   "metadata": {},
   "outputs": [
    {
     "data": {
      "text/plain": [
       "0"
      ]
     },
     "execution_count": 188,
     "metadata": {},
     "output_type": "execute_result"
    }
   ],
   "source": [
    "# d)  Set all positive ( ≥ 4) ratings to 1 and negative( ≤ 2) to -1.\n",
    "baby_df[\"rating\"].replace(1, -1, inplace = True)\n",
    "baby_df[\"rating\"].replace(2, -1, inplace = True)\n",
    "baby_df[\"rating\"].replace(4, 1, inplace = True)\n",
    "baby_df[\"rating\"].replace(5, 1, inplace = True)\n",
    "#short test:\n",
    "sum(baby_df[\"rating\"]**2 != 1)"
   ]
  },
  {
   "cell_type": "code",
   "execution_count": 189,
   "id": "a1402793",
   "metadata": {},
   "outputs": [
    {
     "data": {
      "text/html": [
       "<div>\n",
       "<style scoped>\n",
       "    .dataframe tbody tr th:only-of-type {\n",
       "        vertical-align: middle;\n",
       "    }\n",
       "\n",
       "    .dataframe tbody tr th {\n",
       "        vertical-align: top;\n",
       "    }\n",
       "\n",
       "    .dataframe thead th {\n",
       "        text-align: right;\n",
       "    }\n",
       "</style>\n",
       "<table border=\"1\" class=\"dataframe\">\n",
       "  <thead>\n",
       "    <tr style=\"text-align: right;\">\n",
       "      <th></th>\n",
       "      <th>name</th>\n",
       "      <th>review</th>\n",
       "      <th>rating</th>\n",
       "    </tr>\n",
       "  </thead>\n",
       "  <tbody>\n",
       "    <tr>\n",
       "      <th>1</th>\n",
       "      <td>Planetwise Wipe Pouch</td>\n",
       "      <td>it came early and was not disappointed i love ...</td>\n",
       "      <td>1</td>\n",
       "    </tr>\n",
       "    <tr>\n",
       "      <th>2</th>\n",
       "      <td>Annas Dream Full Quilt with 2 Shams</td>\n",
       "      <td>Very soft and comfortable and warmer than it l...</td>\n",
       "      <td>1</td>\n",
       "    </tr>\n",
       "    <tr>\n",
       "      <th>3</th>\n",
       "      <td>Stop Pacifier Sucking without tears with Thumb...</td>\n",
       "      <td>This is a product well worth the purchase  I h...</td>\n",
       "      <td>1</td>\n",
       "    </tr>\n",
       "    <tr>\n",
       "      <th>4</th>\n",
       "      <td>Stop Pacifier Sucking without tears with Thumb...</td>\n",
       "      <td>All of my kids have cried nonstop when I tried...</td>\n",
       "      <td>1</td>\n",
       "    </tr>\n",
       "    <tr>\n",
       "      <th>5</th>\n",
       "      <td>Stop Pacifier Sucking without tears with Thumb...</td>\n",
       "      <td>When the Binky Fairy came to our house we didn...</td>\n",
       "      <td>1</td>\n",
       "    </tr>\n",
       "    <tr>\n",
       "      <th>6</th>\n",
       "      <td>A Tale of Baby's Days with Peter Rabbit</td>\n",
       "      <td>Lovely book its bound tightly so you may not b...</td>\n",
       "      <td>1</td>\n",
       "    </tr>\n",
       "    <tr>\n",
       "      <th>7</th>\n",
       "      <td>Baby Tracker&amp;reg; - Daily Childcare Journal, S...</td>\n",
       "      <td>Perfect for new parents We were able to keep t...</td>\n",
       "      <td>1</td>\n",
       "    </tr>\n",
       "    <tr>\n",
       "      <th>8</th>\n",
       "      <td>Baby Tracker&amp;reg; - Daily Childcare Journal, S...</td>\n",
       "      <td>A friend of mine pinned this product on Pinter...</td>\n",
       "      <td>1</td>\n",
       "    </tr>\n",
       "    <tr>\n",
       "      <th>9</th>\n",
       "      <td>Baby Tracker&amp;reg; - Daily Childcare Journal, S...</td>\n",
       "      <td>This has been an easy way for my nanny to reco...</td>\n",
       "      <td>1</td>\n",
       "    </tr>\n",
       "    <tr>\n",
       "      <th>10</th>\n",
       "      <td>Baby Tracker&amp;reg; - Daily Childcare Journal, S...</td>\n",
       "      <td>I love this journal and our nanny uses it ever...</td>\n",
       "      <td>1</td>\n",
       "    </tr>\n",
       "    <tr>\n",
       "      <th>11</th>\n",
       "      <td>Baby Tracker&amp;reg; - Daily Childcare Journal, S...</td>\n",
       "      <td>This book is perfect  Im a first time new mom ...</td>\n",
       "      <td>1</td>\n",
       "    </tr>\n",
       "    <tr>\n",
       "      <th>12</th>\n",
       "      <td>Baby Tracker&amp;reg; - Daily Childcare Journal, S...</td>\n",
       "      <td>I originally just gave the nanny a pad of pape...</td>\n",
       "      <td>1</td>\n",
       "    </tr>\n",
       "    <tr>\n",
       "      <th>14</th>\n",
       "      <td>Nature's Lullabies First Year Sticker Calendar</td>\n",
       "      <td>Space for monthly photos info and a lot of use...</td>\n",
       "      <td>1</td>\n",
       "    </tr>\n",
       "    <tr>\n",
       "      <th>15</th>\n",
       "      <td>Nature's Lullabies First Year Sticker Calendar</td>\n",
       "      <td>I bought this calender for myself for my secon...</td>\n",
       "      <td>1</td>\n",
       "    </tr>\n",
       "    <tr>\n",
       "      <th>16</th>\n",
       "      <td>Nature's Lullabies First Year Sticker Calendar</td>\n",
       "      <td>I love this little calender you can keep track...</td>\n",
       "      <td>1</td>\n",
       "    </tr>\n",
       "    <tr>\n",
       "      <th>17</th>\n",
       "      <td>Nature's Lullabies Second Year Sticker Calendar</td>\n",
       "      <td>This was the only calender I could find for th...</td>\n",
       "      <td>1</td>\n",
       "    </tr>\n",
       "    <tr>\n",
       "      <th>18</th>\n",
       "      <td>Nature's Lullabies Second Year Sticker Calendar</td>\n",
       "      <td>I completed a calendar for my sons first year ...</td>\n",
       "      <td>1</td>\n",
       "    </tr>\n",
       "    <tr>\n",
       "      <th>19</th>\n",
       "      <td>Nature's Lullabies Second Year Sticker Calendar</td>\n",
       "      <td>We wanted to get something to keep track of ou...</td>\n",
       "      <td>1</td>\n",
       "    </tr>\n",
       "    <tr>\n",
       "      <th>20</th>\n",
       "      <td>Nature's Lullabies Second Year Sticker Calendar</td>\n",
       "      <td>I had a hard time finding a second year calend...</td>\n",
       "      <td>1</td>\n",
       "    </tr>\n",
       "    <tr>\n",
       "      <th>21</th>\n",
       "      <td>Nature's Lullabies Second Year Sticker Calendar</td>\n",
       "      <td>I only purchased a secondyear calendar for my ...</td>\n",
       "      <td>-1</td>\n",
       "    </tr>\n",
       "  </tbody>\n",
       "</table>\n",
       "</div>"
      ],
      "text/plain": [
       "                                                 name  \\\n",
       "1                               Planetwise Wipe Pouch   \n",
       "2                 Annas Dream Full Quilt with 2 Shams   \n",
       "3   Stop Pacifier Sucking without tears with Thumb...   \n",
       "4   Stop Pacifier Sucking without tears with Thumb...   \n",
       "5   Stop Pacifier Sucking without tears with Thumb...   \n",
       "6             A Tale of Baby's Days with Peter Rabbit   \n",
       "7   Baby Tracker&reg; - Daily Childcare Journal, S...   \n",
       "8   Baby Tracker&reg; - Daily Childcare Journal, S...   \n",
       "9   Baby Tracker&reg; - Daily Childcare Journal, S...   \n",
       "10  Baby Tracker&reg; - Daily Childcare Journal, S...   \n",
       "11  Baby Tracker&reg; - Daily Childcare Journal, S...   \n",
       "12  Baby Tracker&reg; - Daily Childcare Journal, S...   \n",
       "14     Nature's Lullabies First Year Sticker Calendar   \n",
       "15     Nature's Lullabies First Year Sticker Calendar   \n",
       "16     Nature's Lullabies First Year Sticker Calendar   \n",
       "17    Nature's Lullabies Second Year Sticker Calendar   \n",
       "18    Nature's Lullabies Second Year Sticker Calendar   \n",
       "19    Nature's Lullabies Second Year Sticker Calendar   \n",
       "20    Nature's Lullabies Second Year Sticker Calendar   \n",
       "21    Nature's Lullabies Second Year Sticker Calendar   \n",
       "\n",
       "                                               review  rating  \n",
       "1   it came early and was not disappointed i love ...       1  \n",
       "2   Very soft and comfortable and warmer than it l...       1  \n",
       "3   This is a product well worth the purchase  I h...       1  \n",
       "4   All of my kids have cried nonstop when I tried...       1  \n",
       "5   When the Binky Fairy came to our house we didn...       1  \n",
       "6   Lovely book its bound tightly so you may not b...       1  \n",
       "7   Perfect for new parents We were able to keep t...       1  \n",
       "8   A friend of mine pinned this product on Pinter...       1  \n",
       "9   This has been an easy way for my nanny to reco...       1  \n",
       "10  I love this journal and our nanny uses it ever...       1  \n",
       "11  This book is perfect  Im a first time new mom ...       1  \n",
       "12  I originally just gave the nanny a pad of pape...       1  \n",
       "14  Space for monthly photos info and a lot of use...       1  \n",
       "15  I bought this calender for myself for my secon...       1  \n",
       "16  I love this little calender you can keep track...       1  \n",
       "17  This was the only calender I could find for th...       1  \n",
       "18  I completed a calendar for my sons first year ...       1  \n",
       "19  We wanted to get something to keep track of ou...       1  \n",
       "20  I had a hard time finding a second year calend...       1  \n",
       "21  I only purchased a secondyear calendar for my ...      -1  "
      ]
     },
     "execution_count": 189,
     "metadata": {},
     "output_type": "execute_result"
    }
   ],
   "source": [
    "baby_df.head(20)"
   ]
  },
  {
   "cell_type": "markdown",
   "id": "6320023b",
   "metadata": {},
   "source": [
    "## Summary: \n",
    "As we can see in c) after we removed all the rows where rating was equal to 3 the test that checks sum of all rows where rating was equal to 3 returned 0 as expected. All rows with rating equal to 3 where successfully deleted.\n",
    "\n",
    "In d) we use replace function just as in b) but this time we replace values lesser than 3 with -1 and values greater than 3 with 1."
   ]
  },
  {
   "cell_type": "markdown",
   "id": "7d5a1cfc",
   "metadata": {},
   "source": [
    "## Exercise 2 \n",
    "a) Split dataset into training and test sets.     \n",
    "b) Transform reviews into vectors using CountVectorizer. "
   ]
  },
  {
   "cell_type": "code",
   "execution_count": 190,
   "id": "a5931d92",
   "metadata": {},
   "outputs": [],
   "source": [
    "# a)\n",
    "from sklearn.model_selection import train_test_split\n",
    "\n",
    "train, test = train_test_split(baby_df, train_size=0.8, test_size=0.2)"
   ]
  },
  {
   "cell_type": "code",
   "execution_count": 191,
   "id": "df6dbecf",
   "metadata": {},
   "outputs": [],
   "source": [
    "# print(\"train:\", list(train[\"review\"])[3])\n",
    "# print(\"test:\", list(test[\"review\"])[3])\n",
    "\n",
    "# b)\n",
    "from sklearn.feature_extraction.text import CountVectorizer\n",
    "\n",
    "vectorizer = CountVectorizer()\n",
    "x_train = vectorizer.fit_transform(list(train[\"review\"]))\n",
    "x_test = vectorizer.transform(list(test[\"review\"]))\n"
   ]
  },
  {
   "cell_type": "markdown",
   "id": "2d6d10fe",
   "metadata": {},
   "source": [
    "## Summary:\n",
    "We cleaned our data: we delated rows that are neutral and labeled all positive reviews as 1 and negative as -1. After that we separated our dataset into training and test sets. With all that preparations we can train logistic regression so that it learns which words have positive and negative meaning."
   ]
  },
  {
   "cell_type": "markdown",
   "id": "e0d6b435",
   "metadata": {},
   "source": [
    "## Exercise 3 \n",
    "a) Train LogisticRegression model on training data (reviews processed with CountVectorizer, ratings as they were).   \n",
    "b) Print 10 most positive and 10 most negative words."
   ]
  },
  {
   "cell_type": "code",
   "execution_count": 192,
   "id": "21d7394a",
   "metadata": {
    "scrolled": true
   },
   "outputs": [
    {
     "data": {
      "text/html": [
       "<style>#sk-container-id-9 {color: black;background-color: white;}#sk-container-id-9 pre{padding: 0;}#sk-container-id-9 div.sk-toggleable {background-color: white;}#sk-container-id-9 label.sk-toggleable__label {cursor: pointer;display: block;width: 100%;margin-bottom: 0;padding: 0.3em;box-sizing: border-box;text-align: center;}#sk-container-id-9 label.sk-toggleable__label-arrow:before {content: \"▸\";float: left;margin-right: 0.25em;color: #696969;}#sk-container-id-9 label.sk-toggleable__label-arrow:hover:before {color: black;}#sk-container-id-9 div.sk-estimator:hover label.sk-toggleable__label-arrow:before {color: black;}#sk-container-id-9 div.sk-toggleable__content {max-height: 0;max-width: 0;overflow: hidden;text-align: left;background-color: #f0f8ff;}#sk-container-id-9 div.sk-toggleable__content pre {margin: 0.2em;color: black;border-radius: 0.25em;background-color: #f0f8ff;}#sk-container-id-9 input.sk-toggleable__control:checked~div.sk-toggleable__content {max-height: 200px;max-width: 100%;overflow: auto;}#sk-container-id-9 input.sk-toggleable__control:checked~label.sk-toggleable__label-arrow:before {content: \"▾\";}#sk-container-id-9 div.sk-estimator input.sk-toggleable__control:checked~label.sk-toggleable__label {background-color: #d4ebff;}#sk-container-id-9 div.sk-label input.sk-toggleable__control:checked~label.sk-toggleable__label {background-color: #d4ebff;}#sk-container-id-9 input.sk-hidden--visually {border: 0;clip: rect(1px 1px 1px 1px);clip: rect(1px, 1px, 1px, 1px);height: 1px;margin: -1px;overflow: hidden;padding: 0;position: absolute;width: 1px;}#sk-container-id-9 div.sk-estimator {font-family: monospace;background-color: #f0f8ff;border: 1px dotted black;border-radius: 0.25em;box-sizing: border-box;margin-bottom: 0.5em;}#sk-container-id-9 div.sk-estimator:hover {background-color: #d4ebff;}#sk-container-id-9 div.sk-parallel-item::after {content: \"\";width: 100%;border-bottom: 1px solid gray;flex-grow: 1;}#sk-container-id-9 div.sk-label:hover label.sk-toggleable__label {background-color: #d4ebff;}#sk-container-id-9 div.sk-serial::before {content: \"\";position: absolute;border-left: 1px solid gray;box-sizing: border-box;top: 0;bottom: 0;left: 50%;z-index: 0;}#sk-container-id-9 div.sk-serial {display: flex;flex-direction: column;align-items: center;background-color: white;padding-right: 0.2em;padding-left: 0.2em;position: relative;}#sk-container-id-9 div.sk-item {position: relative;z-index: 1;}#sk-container-id-9 div.sk-parallel {display: flex;align-items: stretch;justify-content: center;background-color: white;position: relative;}#sk-container-id-9 div.sk-item::before, #sk-container-id-9 div.sk-parallel-item::before {content: \"\";position: absolute;border-left: 1px solid gray;box-sizing: border-box;top: 0;bottom: 0;left: 50%;z-index: -1;}#sk-container-id-9 div.sk-parallel-item {display: flex;flex-direction: column;z-index: 1;position: relative;background-color: white;}#sk-container-id-9 div.sk-parallel-item:first-child::after {align-self: flex-end;width: 50%;}#sk-container-id-9 div.sk-parallel-item:last-child::after {align-self: flex-start;width: 50%;}#sk-container-id-9 div.sk-parallel-item:only-child::after {width: 0;}#sk-container-id-9 div.sk-dashed-wrapped {border: 1px dashed gray;margin: 0 0.4em 0.5em 0.4em;box-sizing: border-box;padding-bottom: 0.4em;background-color: white;}#sk-container-id-9 div.sk-label label {font-family: monospace;font-weight: bold;display: inline-block;line-height: 1.2em;}#sk-container-id-9 div.sk-label-container {text-align: center;}#sk-container-id-9 div.sk-container {/* jupyter's `normalize.less` sets `[hidden] { display: none; }` but bootstrap.min.css set `[hidden] { display: none !important; }` so we also need the `!important` here to be able to override the default hidden behavior on the sphinx rendered scikit-learn.org. See: https://github.com/scikit-learn/scikit-learn/issues/21755 */display: inline-block !important;position: relative;}#sk-container-id-9 div.sk-text-repr-fallback {display: none;}</style><div id=\"sk-container-id-9\" class=\"sk-top-container\"><div class=\"sk-text-repr-fallback\"><pre>LogisticRegression(max_iter=20000)</pre><b>In a Jupyter environment, please rerun this cell to show the HTML representation or trust the notebook. <br />On GitHub, the HTML representation is unable to render, please try loading this page with nbviewer.org.</b></div><div class=\"sk-container\" hidden><div class=\"sk-item\"><div class=\"sk-estimator sk-toggleable\"><input class=\"sk-toggleable__control sk-hidden--visually\" id=\"sk-estimator-id-9\" type=\"checkbox\" checked><label for=\"sk-estimator-id-9\" class=\"sk-toggleable__label sk-toggleable__label-arrow\">LogisticRegression</label><div class=\"sk-toggleable__content\"><pre>LogisticRegression(max_iter=20000)</pre></div></div></div></div></div>"
      ],
      "text/plain": [
       "LogisticRegression(max_iter=20000)"
      ]
     },
     "execution_count": 192,
     "metadata": {},
     "output_type": "execute_result"
    }
   ],
   "source": [
    "#a)\n",
    "y_train = train[\"rating\"]\n",
    "# print(list(y_train))\n",
    "\n",
    "model = LogisticRegression(solver='lbfgs', max_iter=20000)\n",
    "model.fit(x_train, y_train)"
   ]
  },
  {
   "cell_type": "code",
   "execution_count": 193,
   "id": "d8167130",
   "metadata": {},
   "outputs": [
    {
     "name": "stdout",
     "output_type": "stream",
     "text": [
      "Most positive words: lifesaver, saves, amazed, downside, rich, pleasantly, skeptical, excellent, perfect, awesome, \n",
      "\n",
      "Most negative words: disappointing, worthless, dissapointed, worst, poorly, theory, useless, unusable, concept, poor, \n",
      "\n"
     ]
    }
   ],
   "source": [
    "#b)\n",
    "# Get the indices of the sorted cofficients\n",
    "ascending = np.argsort(model.coef_.flatten()) \n",
    "descending = ascending[::-1]\n",
    "\n",
    "vocab = np.array(vectorizer.get_feature_names_out())\n",
    "\n",
    "# Print most positive words\n",
    "print(\"Most positive words: \", end=\"\")\n",
    "for i in range(10):\n",
    "    print(vocab[descending[i]], end=\", \")\n",
    "print(\"\\n\")\n",
    "\n",
    "# Print most negative words\n",
    "print(\"Most negative words: \", end=\"\")\n",
    "for i in range(10):\n",
    "    print(vocab[ascending[i]], end=\", \")\n",
    "print(\"\\n\")\n",
    "\n",
    "#hint: model.coef_, vectorizer.get_feature_names()"
   ]
  },
  {
   "cell_type": "markdown",
   "id": "73c2aeac",
   "metadata": {},
   "source": [
    "## Summary:\n",
    "In this exercise we are interpreting the coefficients of a logistic regression fit on the products rating. \\\n",
    "descending[0] contains the index of the largest coefficient \\\n",
    "vocab[descending[0]] contains the word corresponding to the largest coefficient\n",
    "\n",
    "As we can see some results are not perfect since even some positive reviews can describe some drawbacks that product can have."
   ]
  },
  {
   "cell_type": "markdown",
   "id": "e75e04ca",
   "metadata": {},
   "source": [
    "## Exercise 4 \n",
    "a) Predict the sentiment of test data reviews.   \n",
    "b) Predict the sentiment of test data reviews in terms of probability.   \n",
    "c) Find five most positive and most negative reviews.   \n",
    "d) Calculate the accuracy of predictions."
   ]
  },
  {
   "cell_type": "code",
   "execution_count": 194,
   "id": "471bfc79",
   "metadata": {},
   "outputs": [
    {
     "data": {
      "text/plain": [
       "array([ 1, -1,  1, ...,  1,  1,  1], dtype=int64)"
      ]
     },
     "execution_count": 194,
     "metadata": {},
     "output_type": "execute_result"
    }
   ],
   "source": [
    "# a)\n",
    "model.predict(x_test)"
   ]
  },
  {
   "cell_type": "code",
   "execution_count": 195,
   "id": "b7ef9ede",
   "metadata": {},
   "outputs": [
    {
     "name": "stdout",
     "output_type": "stream",
     "text": [
      "[[5.54762287e-06 9.99994452e-01]\n",
      " [6.06921903e-01 3.93078097e-01]\n",
      " [1.40350976e-03 9.98596490e-01]\n",
      " ...\n",
      " [1.65920156e-01 8.34079844e-01]\n",
      " [2.29161997e-04 9.99770838e-01]\n",
      " [1.72776667e-02 9.82722333e-01]]\n"
     ]
    }
   ],
   "source": [
    "# b)\n",
    "pred = model.predict_proba(x_test)\n",
    "print(pred)\n",
    "#hint: model.predict_proba()"
   ]
  },
  {
   "cell_type": "code",
   "execution_count": 196,
   "id": "6d3467cb",
   "metadata": {},
   "outputs": [
    {
     "name": "stdout",
     "output_type": "stream",
     "text": [
      "Five most positive reviews: \n",
      "1 )\n",
      "This is the second of this type of product Ive purchased  They are both well made with no loose stitching and all elastic working properly  In practice these diapers work well as intended\n",
      "2 )\n",
      "Tubing could be a little bit longer but otherwise it works great for my medela pump in style breast pump\n",
      "3 )\n",
      "We have an older dog 26 lbs and need to confine her to different parts of the house over the course of the day  Each of the three openings is a different widthThe smallest is 32 inches and this opening requires the extensions on the end to be screwed out to the point where you worry they will hold without breaking but we have caught clothing on the edges multple times and no breaks to dateThe second widest is 36 inches and with one short extension piece inserted this one was a really tight fit  The good news is that once you get it in place there is little risk of breaking because the gate is plenty strong enough even for a big dogThe widest opening is 48 inches and with two extensions it fits perfectly and still feels very strongSince these gates are only used for a dog we used a plastic cable tie to keep the latch permanently pulled back This makes it easier to open and close and gets rid of a slight squeak when the latch slides back and forth\n",
      "4 )\n",
      "I work outside and felt like the Badger Balm gave me the sun protection I needed Its a thick cream with a light lavender fragrance I bought one for my husband one for myself and one to share\n",
      "5 )\n",
      "This base is SO easy to install  My husband installed them into our cars when I was 8 months pregnant and he was done in 3 minutes  Seriously that easy  Especially if you have a newer car you can just clip them in and make sure the level is balanced and you can go on your merry way\n",
      "\n",
      "\n",
      "Five most negative reviews: \n",
      "1 )\n",
      "these are thicker than the take and toss cups and the click lock is much nicer than having a kid pull  off the lid which mine were starting to do less mess with these and at about 1 a cup its not as big of a deal if they are forgotten and left somewhere i was tired of losing me 5 a cup sippy cupsonly problem is that after a month or so of use my daugter couldnt get anything out of it but i just took a needle and stuck through all the holes and problem solved\n",
      "2 )\n",
      "I got my son the frog and it is cute but the stitching started coming apart in three places after the first wash I would have expected more from a relatively expensive towel Not worth the time or expense to return but I am very disappointed in my purchase I will not be purchasing others\n",
      "3 )\n",
      "This is a must have cant live without at our house We started using this in my daughters room when she was 3mos old and she still uses it every night at 3 yrs old We now have another in our sons room I take it on vacation and when our first one broke we ordered another immediately My daughter was beside herself without it This solves all 2am crying We love the timer function and of course the stars In the past we have had problems with the projector sticking not rotating but it wasnt anything a slam on the table wouldnt fix My daughter likes whether it spins or not The first one broke after 2 years of nightly use at 13hrs per night Thats something I can live with And by broke I mean completely stopped working But with as much use as ours gets and for the price I think it has earned its keep It has many options for sounds as well as multiple discs for images for projection The adjustable angle of the projector is nice too\n",
      "4 )\n",
      "have had this place mat a couple of months now my son loves it and it is holding up well I use a pretty abrasive scrub brush and sponge to clean it and still looks good as new\n",
      "5 )\n",
      "The towels are not good very low quality They are beautiful but didnt like the material very poor I didnt like it\n"
     ]
    }
   ],
   "source": [
    "# c) Find five most positive and most negative reviews.\n",
    "ascendingproba = np.argsort(pred[:,[0]].flatten()) \n",
    "\n",
    "#     Positive reviews\n",
    "print(\"Five most positive reviews: \")\n",
    "for i in range (5):\n",
    "    print(i+1, \")\")\n",
    "    print(list(train[\"review\"])[ascendingproba[i]])\n",
    "\n",
    "print()\n",
    "print()\n",
    "print(\"Five most negative reviews: \")\n",
    "#     Negative reviews\n",
    "descendingproba = ascendingproba[::-1]\n",
    "for i in range (5):\n",
    "    print(i+1, \")\")\n",
    "    print(list(train[\"review\"])[descendingproba[i]])"
   ]
  },
  {
   "cell_type": "code",
   "execution_count": 197,
   "id": "ac578951",
   "metadata": {},
   "outputs": [
    {
     "data": {
      "text/plain": [
       "0.9317861533387305"
      ]
     },
     "execution_count": 197,
     "metadata": {},
     "output_type": "execute_result"
    }
   ],
   "source": [
    "# d) Calculate the accuracy of predictions.\n",
    "y_test = test[\"rating\"]\n",
    "model.score(x_test, y_test)"
   ]
  },
  {
   "cell_type": "markdown",
   "id": "237caaa0",
   "metadata": {},
   "source": [
    "## Summary:\n",
    "We find five most positive and negative reviews and calculate the accuracy of our prediction. Accuracy is very high - it is 93% right."
   ]
  },
  {
   "cell_type": "markdown",
   "id": "fc921347",
   "metadata": {},
   "source": [
    "## Exercise 5\n",
    "In this exercise we will limit the dictionary of CountVectorizer to the set of significant words, defined below.\n",
    "\n",
    "\n",
    "a) Redo exercises 2-5 using limited dictionary.   \n",
    "b) Check the impact of all the words from the dictionary.   \n",
    "c) Compare accuracy of predictions and the time of evaluation."
   ]
  },
  {
   "cell_type": "code",
   "execution_count": 198,
   "id": "1a72d5f1",
   "metadata": {},
   "outputs": [
    {
     "data": {
      "text/html": [
       "<style>#sk-container-id-10 {color: black;background-color: white;}#sk-container-id-10 pre{padding: 0;}#sk-container-id-10 div.sk-toggleable {background-color: white;}#sk-container-id-10 label.sk-toggleable__label {cursor: pointer;display: block;width: 100%;margin-bottom: 0;padding: 0.3em;box-sizing: border-box;text-align: center;}#sk-container-id-10 label.sk-toggleable__label-arrow:before {content: \"▸\";float: left;margin-right: 0.25em;color: #696969;}#sk-container-id-10 label.sk-toggleable__label-arrow:hover:before {color: black;}#sk-container-id-10 div.sk-estimator:hover label.sk-toggleable__label-arrow:before {color: black;}#sk-container-id-10 div.sk-toggleable__content {max-height: 0;max-width: 0;overflow: hidden;text-align: left;background-color: #f0f8ff;}#sk-container-id-10 div.sk-toggleable__content pre {margin: 0.2em;color: black;border-radius: 0.25em;background-color: #f0f8ff;}#sk-container-id-10 input.sk-toggleable__control:checked~div.sk-toggleable__content {max-height: 200px;max-width: 100%;overflow: auto;}#sk-container-id-10 input.sk-toggleable__control:checked~label.sk-toggleable__label-arrow:before {content: \"▾\";}#sk-container-id-10 div.sk-estimator input.sk-toggleable__control:checked~label.sk-toggleable__label {background-color: #d4ebff;}#sk-container-id-10 div.sk-label input.sk-toggleable__control:checked~label.sk-toggleable__label {background-color: #d4ebff;}#sk-container-id-10 input.sk-hidden--visually {border: 0;clip: rect(1px 1px 1px 1px);clip: rect(1px, 1px, 1px, 1px);height: 1px;margin: -1px;overflow: hidden;padding: 0;position: absolute;width: 1px;}#sk-container-id-10 div.sk-estimator {font-family: monospace;background-color: #f0f8ff;border: 1px dotted black;border-radius: 0.25em;box-sizing: border-box;margin-bottom: 0.5em;}#sk-container-id-10 div.sk-estimator:hover {background-color: #d4ebff;}#sk-container-id-10 div.sk-parallel-item::after {content: \"\";width: 100%;border-bottom: 1px solid gray;flex-grow: 1;}#sk-container-id-10 div.sk-label:hover label.sk-toggleable__label {background-color: #d4ebff;}#sk-container-id-10 div.sk-serial::before {content: \"\";position: absolute;border-left: 1px solid gray;box-sizing: border-box;top: 0;bottom: 0;left: 50%;z-index: 0;}#sk-container-id-10 div.sk-serial {display: flex;flex-direction: column;align-items: center;background-color: white;padding-right: 0.2em;padding-left: 0.2em;position: relative;}#sk-container-id-10 div.sk-item {position: relative;z-index: 1;}#sk-container-id-10 div.sk-parallel {display: flex;align-items: stretch;justify-content: center;background-color: white;position: relative;}#sk-container-id-10 div.sk-item::before, #sk-container-id-10 div.sk-parallel-item::before {content: \"\";position: absolute;border-left: 1px solid gray;box-sizing: border-box;top: 0;bottom: 0;left: 50%;z-index: -1;}#sk-container-id-10 div.sk-parallel-item {display: flex;flex-direction: column;z-index: 1;position: relative;background-color: white;}#sk-container-id-10 div.sk-parallel-item:first-child::after {align-self: flex-end;width: 50%;}#sk-container-id-10 div.sk-parallel-item:last-child::after {align-self: flex-start;width: 50%;}#sk-container-id-10 div.sk-parallel-item:only-child::after {width: 0;}#sk-container-id-10 div.sk-dashed-wrapped {border: 1px dashed gray;margin: 0 0.4em 0.5em 0.4em;box-sizing: border-box;padding-bottom: 0.4em;background-color: white;}#sk-container-id-10 div.sk-label label {font-family: monospace;font-weight: bold;display: inline-block;line-height: 1.2em;}#sk-container-id-10 div.sk-label-container {text-align: center;}#sk-container-id-10 div.sk-container {/* jupyter's `normalize.less` sets `[hidden] { display: none; }` but bootstrap.min.css set `[hidden] { display: none !important; }` so we also need the `!important` here to be able to override the default hidden behavior on the sphinx rendered scikit-learn.org. See: https://github.com/scikit-learn/scikit-learn/issues/21755 */display: inline-block !important;position: relative;}#sk-container-id-10 div.sk-text-repr-fallback {display: none;}</style><div id=\"sk-container-id-10\" class=\"sk-top-container\"><div class=\"sk-text-repr-fallback\"><pre>LogisticRegression(max_iter=20000)</pre><b>In a Jupyter environment, please rerun this cell to show the HTML representation or trust the notebook. <br />On GitHub, the HTML representation is unable to render, please try loading this page with nbviewer.org.</b></div><div class=\"sk-container\" hidden><div class=\"sk-item\"><div class=\"sk-estimator sk-toggleable\"><input class=\"sk-toggleable__control sk-hidden--visually\" id=\"sk-estimator-id-10\" type=\"checkbox\" checked><label for=\"sk-estimator-id-10\" class=\"sk-toggleable__label sk-toggleable__label-arrow\">LogisticRegression</label><div class=\"sk-toggleable__content\"><pre>LogisticRegression(max_iter=20000)</pre></div></div></div></div></div>"
      ],
      "text/plain": [
       "LogisticRegression(max_iter=20000)"
      ]
     },
     "execution_count": 198,
     "metadata": {},
     "output_type": "execute_result"
    }
   ],
   "source": [
    "# 5a)\n",
    "words = [\"ply\", \"saves\", \"minor\", \"rich\", \"skeptical\", \"excellent\", \"downside\", \"pleasantly\", \"worry\", \"thankful\",\"dissapointed\", \"disappointing\", \"worthless\", \"worst\", \"poorly\", \"concept\", \"theory\", \"poor\", \"intelligent\", \"useless\"]\n",
    "\n",
    "# Excercise 2\n",
    "# Transform reviews into vectors using CountVectorizer. We limiting dictionary of CountVectorizer\n",
    "vectorizer_dict = CountVectorizer(vocabulary=words)\n",
    "x_train_dict = vectorizer_dict.fit_transform(list(train[\"review\"]))\n",
    "x_test_dict = vectorizer_dict.transform(list(test[\"review\"]))\n",
    "\n",
    "# Excercise 3\n",
    "# Train LogisticRegression model on training data\n",
    "y_train_dict = train[\"rating\"]\n",
    "model_dict = LogisticRegression(solver='lbfgs', max_iter=20000)\n",
    "model_dict.fit(x_train_dict, y_train_dict)"
   ]
  },
  {
   "cell_type": "code",
   "execution_count": 200,
   "id": "e7ca7149",
   "metadata": {},
   "outputs": [
    {
     "name": "stdout",
     "output_type": "stream",
     "text": [
      "Most positive words: pleasantly, saves, skeptical, downside, excellent, worry, rich, minor, thankful, ply, \n",
      "\n",
      "Most negative words: theory, worst, disappointing, poorly, worthless, dissapointed, poor, useless, intelligent, concept, \n",
      "\n"
     ]
    }
   ],
   "source": [
    "# Print 10 most positive and 10 most negative words\n",
    "\n",
    "# Get the indices of the sorted cofficients\n",
    "ascending_d = np.argsort(model_dict.coef_.flatten()) \n",
    "descending_d = ascending_d[::-1]\n",
    "\n",
    "vocab_dict = np.array(vectorizer_dict.get_feature_names_out())\n",
    "\n",
    "# Print most positive words\n",
    "print(\"Most positive words: \", end=\"\")\n",
    "for i in range(10):\n",
    "    print(vocab_dict[descending_d[i]], end=\", \")\n",
    "print(\"\\n\")\n",
    "\n",
    "# Print most negative words\n",
    "print(\"Most negative words: \", end=\"\")\n",
    "for i in range(10):\n",
    "    print(vocab_dict[ascending_d[i]], end=\", \")\n",
    "print(\"\\n\")"
   ]
  },
  {
   "cell_type": "code",
   "execution_count": 201,
   "id": "dedad4bd",
   "metadata": {},
   "outputs": [
    {
     "data": {
      "text/plain": [
       "array([1, 1, 1, ..., 1, 1, 1], dtype=int64)"
      ]
     },
     "execution_count": 201,
     "metadata": {},
     "output_type": "execute_result"
    }
   ],
   "source": [
    "# Excercise 4\n",
    "#  Predict the sentiment of test data reviews\n",
    "model_dict.predict(x_test_dict)"
   ]
  },
  {
   "cell_type": "code",
   "execution_count": 202,
   "id": "99c2c146",
   "metadata": {},
   "outputs": [
    {
     "name": "stdout",
     "output_type": "stream",
     "text": [
      "[[0.1482568 0.8517432]\n",
      " [0.1482568 0.8517432]\n",
      " [0.1482568 0.8517432]\n",
      " ...\n",
      " [0.1482568 0.8517432]\n",
      " [0.1482568 0.8517432]\n",
      " [0.1482568 0.8517432]]\n"
     ]
    }
   ],
   "source": [
    "# Predict the sentiment of test data reviews in terms of probability\n",
    "pred_d = model_dict.predict_proba(x_test_dict)\n",
    "print(pred_d)"
   ]
  },
  {
   "cell_type": "code",
   "execution_count": 203,
   "id": "39243f7e",
   "metadata": {},
   "outputs": [
    {
     "name": "stdout",
     "output_type": "stream",
     "text": [
      "Five most positive reviews: \n",
      "1 ) \n",
      "We just got a two pack of these and I think we have finally found the winner for our newborns bottles  Our challenge has been to find a bottle that has a very low flow rate combined with a natural feel so that our baby boy will still latch naturally to the breast  These do the trick  The 5 oz model has a low flow rate and the model is simple to clean  So far it is worth every penny\n",
      "2 ) \n",
      "My daughter loves the quality of this swing  Its great that it rocks in two separate planes and there are a number of ways to configure the music the volume the visuals etc  Love it\n",
      "3 ) \n",
      "Usually with these 34organic34 sheets and mattress pads they are much stiffer than the others  This one was surprisingly soft  both the sheet and the topper  As others have noted it is manufactured in China  sometimes that can be of concern  but it seems to be good quality  Not sure if its truly 100 organic but so few things actually are\n",
      "4 ) \n",
      "Didnt use it for more than a week but when she did use it she liked it and so did we\n",
      "5 ) \n",
      "Love theseso easy to hang  look so cute I thought they would look a little cheapish due to some of the comments here but they dont look cheap at all to me Just be careful cutting the tags offI just love them  A total MUST HAVE if you go with the kaola moonbeam collection I believe See my pic above\n",
      "\n",
      "Five most negative reviews: \n",
      "1 )\n",
      "Great I dont remember how I found these it may have been searching through amazon for a 34toddler belt34 Well these are even better they snug up the pants from behind so for potty training your toddler doesnt have to deal with unbuckling a belt My son had several pairs of droopy pants that would sometimes fall to his knees when he was playing The elastic on the pants my have stretched a bit but the pants were still in good shape These snaps solved the problem  kept the pants on him tightly yet made diaper changes and potty training a breeze This is one of those items that is simple yet sheer genius I wish I would have thought of it  And I can clearly see how they would work from probably about 18 months up to 4 years\n",
      "2 )\n",
      "I received the item very quickly However I didnt receive the item I ordered I ordered the same as pictured pink but instead received a white one with polka dots The one I received will have to do since there is no time to return it  wait for replacement but Im unhappy that I did not receive what I ordered\n",
      "3 )\n",
      "I bought this bedding set primarily for the bumper quilt and bumper  I THOUGHT it was adorable online  This product is awful  The dust ruffle was way too big and I had to take it off when I lowered the crib as my baby grew  I didnt put the bumper pad on until 9 months after I bought the product since they arent recommended for infants  So just a few days ago I put it on and IT DOESNT FIT  It is not long enough to go all the way around a standard sized crib  Yes I suppose I should have checked when I first received it but who would have thought it wouldnt fit  What a rip off this bedding set is  Also you wont realize it until you buy it however the bird and tree motif is only on two short little sections of the bumper the rest is plain white  I am so disgusted with this bedding set  What a total waste of money  Do not buy this bedding set  In fact I would be cautious about buying anything from this company\n",
      "4 )\n",
      "I love these cups for outdoor picnics and play dates  While they leak a little it isnt bad and for the price they are perfect for short term use and then recycling\n",
      "5 )\n",
      "these are thicker than the take and toss cups and the click lock is much nicer than having a kid pull  off the lid which mine were starting to do less mess with these and at about 1 a cup its not as big of a deal if they are forgotten and left somewhere i was tired of losing me 5 a cup sippy cupsonly problem is that after a month or so of use my daugter couldnt get anything out of it but i just took a needle and stuck through all the holes and problem solved\n"
     ]
    }
   ],
   "source": [
    "# Find five most positive and most negative reviews.\n",
    "ascendingproba_d = np.argsort(pred_d[:,[0]].flatten()) \n",
    "\n",
    "print(\"Five most positive reviews: \")\n",
    "for i in range (5):\n",
    "    print(i+1, \") \")\n",
    "    print(list(train[\"review\"])[ascendingproba_d[i]])\n",
    "\n",
    "print()\n",
    "print(\"Five most negative reviews: \")\n",
    "descendingproba_d = ascendingproba_d[::-1]\n",
    "for i in range (5):\n",
    "    print(i+1, \")\")\n",
    "    print(list(train[\"review\"])[descendingproba_d[i]])"
   ]
  },
  {
   "cell_type": "code",
   "execution_count": 204,
   "id": "2330104e",
   "metadata": {},
   "outputs": [
    {
     "data": {
      "text/plain": [
       "0.8533177415969536"
      ]
     },
     "execution_count": 204,
     "metadata": {},
     "output_type": "execute_result"
    }
   ],
   "source": [
    "# Calculate the accuracy of predictions.\n",
    "y_test_dict = test[\"rating\"]\n",
    "model_dict.score(x_test_dict, y_test_dict)"
   ]
  },
  {
   "cell_type": "markdown",
   "id": "255cef48",
   "metadata": {},
   "source": [
    "## Summary:\n",
    "We once again want to train logistic regression to recognize negative and positive words but this time we are using additional dictionary. Since our dictionary is limited in size I expected predictions to have smaller accuracy. Those assumptions where correct because the accuracy dropped by 8.6%."
   ]
  },
  {
   "cell_type": "code",
   "execution_count": 205,
   "id": "45bfc5dd",
   "metadata": {},
   "outputs": [
    {
     "name": "stdout",
     "output_type": "stream",
     "text": [
      "ply: 0.2133573145182058\n",
      "saves: 1.9675248424235015\n",
      "minor: 1.0030858261343543\n",
      "rich: 1.203121839440074\n",
      "skeptical: 1.6454419476966997\n",
      "excellent: 1.3797073916000562\n",
      "downside: 1.572422554413102\n",
      "pleasantly: 2.0353207079266036\n",
      "worry: 1.2269214896322693\n",
      "thankful: 0.6272665445856024\n",
      "dissapointed: -2.3437074585799373\n",
      "disappointing: -2.8174570030334114\n",
      "worthless: -2.4879953387713245\n",
      "worst: -2.8663648765377823\n",
      "poorly: -2.781189381303166\n",
      "concept: -1.5733252904495842\n",
      "theory: -2.992956963642512\n",
      "poor: -2.3034883646108644\n",
      "intelligent: -2.080154684797976\n",
      "useless: -2.2761743628709787\n"
     ]
    }
   ],
   "source": [
    "# b) Check the impact of all the words from the dictionary.\n",
    "# print (model_dict.coef_)\n",
    "for i in range (len(words)):\n",
    "    print(words[i], end=\": \")\n",
    "    print(model_dict.coef_.flatten()[i])"
   ]
  },
  {
   "cell_type": "code",
   "execution_count": 206,
   "id": "64218959",
   "metadata": {},
   "outputs": [],
   "source": [
    "#c) Compare accuracy of predictions and the time of evaluation.\n",
    "import sys, time\n",
    "\n",
    "# Oryginal accuracy: 0.9302569638091811\n",
    "# After using dictionary: 0.8516686156337141\n",
    "\n",
    "#hint: %time, %timeit"
   ]
  },
  {
   "cell_type": "code",
   "execution_count": 227,
   "id": "5196d49e",
   "metadata": {},
   "outputs": [
    {
     "name": "stdout",
     "output_type": "stream",
     "text": [
      "3.85 ms ± 678 µs per loop (mean ± std. dev. of 7 runs, 100 loops each)\n"
     ]
    }
   ],
   "source": [
    "%timeit model_dict.score(x_test_dict, y_test_dict)"
   ]
  },
  {
   "cell_type": "code",
   "execution_count": 226,
   "id": "a3e8ea73",
   "metadata": {},
   "outputs": [
    {
     "name": "stdout",
     "output_type": "stream",
     "text": [
      "CPU times: total: 0 ns\n",
      "Wall time: 5.99 ms\n"
     ]
    },
    {
     "data": {
      "text/plain": [
       "0.8533177415969536"
      ]
     },
     "execution_count": 226,
     "metadata": {},
     "output_type": "execute_result"
    }
   ],
   "source": [
    "%time model_dict.score(x_test_dict, y_test_dict)"
   ]
  },
  {
   "cell_type": "code",
   "execution_count": 228,
   "id": "710b7a8c",
   "metadata": {},
   "outputs": [
    {
     "name": "stdout",
     "output_type": "stream",
     "text": [
      "16 ms ± 447 µs per loop (mean ± std. dev. of 7 runs, 100 loops each)\n"
     ]
    }
   ],
   "source": [
    "%timeit model.score(x_test, y_test)"
   ]
  },
  {
   "cell_type": "code",
   "execution_count": 223,
   "id": "2784f05e",
   "metadata": {},
   "outputs": [
    {
     "name": "stdout",
     "output_type": "stream",
     "text": [
      "CPU times: total: 31.2 ms\n",
      "Wall time: 21.9 ms\n"
     ]
    },
    {
     "data": {
      "text/plain": [
       "0.9317861533387305"
      ]
     },
     "execution_count": 223,
     "metadata": {},
     "output_type": "execute_result"
    }
   ],
   "source": [
    "%time model.score(x_test, y_test)"
   ]
  },
  {
   "cell_type": "markdown",
   "id": "433e6f01",
   "metadata": {},
   "source": [
    "## Summary:\n",
    "As we can see original predictions were more precise but we pay this precision in time complexity of the cell evaluation."
   ]
  }
 ],
 "metadata": {
  "kernelspec": {
   "display_name": "Python 3 (ipykernel)",
   "language": "python",
   "name": "python3"
  },
  "language_info": {
   "codemirror_mode": {
    "name": "ipython",
    "version": 3
   },
   "file_extension": ".py",
   "mimetype": "text/x-python",
   "name": "python",
   "nbconvert_exporter": "python",
   "pygments_lexer": "ipython3",
   "version": "3.10.6"
  }
 },
 "nbformat": 4,
 "nbformat_minor": 5
}
