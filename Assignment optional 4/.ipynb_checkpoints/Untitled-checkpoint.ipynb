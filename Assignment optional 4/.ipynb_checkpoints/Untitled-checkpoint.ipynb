{
 "cells": [
  {
   "cell_type": "markdown",
   "id": "f27262cc",
   "metadata": {},
   "source": [
    "# Assignment 4 optional\n",
    "author: Dominika Maciąg"
   ]
  },
  {
   "cell_type": "markdown",
   "id": "77eed62b",
   "metadata": {},
   "source": [
    "# IMDB Dataset of 50K Movie Reviews\n",
    "## About the dataset that I am using:\n",
    "https://www.kaggle.com/datasets/lakshmi25npathi/imdb-dataset-of-50k-movie-reviews?resource=download\n",
    "    \n",
    "IMDb is an online database that contains information related to films, television series, video games, \n",
    "and streaming content online – including cast, production crew and personal biographies, plot summaries, trivia, ratings, \n",
    "and fan and critical reviews. \n",
    "\n",
    "The dataset that I am using contains 50 000 reviews of movies which are positive and negative.\n"
   ]
  },
  {
   "cell_type": "code",
   "execution_count": 41,
   "id": "5906ecaf",
   "metadata": {},
   "outputs": [
    {
     "data": {
      "text/html": [
       "<div>\n",
       "<style scoped>\n",
       "    .dataframe tbody tr th:only-of-type {\n",
       "        vertical-align: middle;\n",
       "    }\n",
       "\n",
       "    .dataframe tbody tr th {\n",
       "        vertical-align: top;\n",
       "    }\n",
       "\n",
       "    .dataframe thead th {\n",
       "        text-align: right;\n",
       "    }\n",
       "</style>\n",
       "<table border=\"1\" class=\"dataframe\">\n",
       "  <thead>\n",
       "    <tr style=\"text-align: right;\">\n",
       "      <th></th>\n",
       "      <th>review</th>\n",
       "      <th>sentiment</th>\n",
       "    </tr>\n",
       "  </thead>\n",
       "  <tbody>\n",
       "    <tr>\n",
       "      <th>0</th>\n",
       "      <td>One of the other reviewers has mentioned that ...</td>\n",
       "      <td>positive</td>\n",
       "    </tr>\n",
       "    <tr>\n",
       "      <th>1</th>\n",
       "      <td>A wonderful little production. &lt;br /&gt;&lt;br /&gt;The...</td>\n",
       "      <td>positive</td>\n",
       "    </tr>\n",
       "    <tr>\n",
       "      <th>2</th>\n",
       "      <td>I thought this was a wonderful way to spend ti...</td>\n",
       "      <td>positive</td>\n",
       "    </tr>\n",
       "    <tr>\n",
       "      <th>3</th>\n",
       "      <td>Basically there's a family where a little boy ...</td>\n",
       "      <td>negative</td>\n",
       "    </tr>\n",
       "    <tr>\n",
       "      <th>4</th>\n",
       "      <td>Petter Mattei's \"Love in the Time of Money\" is...</td>\n",
       "      <td>positive</td>\n",
       "    </tr>\n",
       "  </tbody>\n",
       "</table>\n",
       "</div>"
      ],
      "text/plain": [
       "                                              review sentiment\n",
       "0  One of the other reviewers has mentioned that ...  positive\n",
       "1  A wonderful little production. <br /><br />The...  positive\n",
       "2  I thought this was a wonderful way to spend ti...  positive\n",
       "3  Basically there's a family where a little boy ...  negative\n",
       "4  Petter Mattei's \"Love in the Time of Money\" is...  positive"
      ]
     },
     "execution_count": 41,
     "metadata": {},
     "output_type": "execute_result"
    }
   ],
   "source": [
    "import pandas as pd\n",
    "import numpy as np\n",
    "import matplotlib.pyplot as plt\n",
    "import string\n",
    "from sklearn.linear_model import LogisticRegression\n",
    "\n",
    "def remove_punctuation(text):\n",
    "    import string\n",
    "    translator = str.maketrans('', '', string.punctuation)\n",
    "    return text.translate(translator)\n",
    "\n",
    "df = pd.read_csv('IMDB Dataset.csv')\n",
    "df.head()"
   ]
  },
  {
   "cell_type": "markdown",
   "id": "b9ff1672",
   "metadata": {},
   "source": [
    "# Exercise 1 \n",
    "Let's prepare our data"
   ]
  },
  {
   "cell_type": "code",
   "execution_count": 42,
   "id": "a99d173c",
   "metadata": {},
   "outputs": [
    {
     "data": {
      "text/plain": [
       "True"
      ]
     },
     "execution_count": 42,
     "metadata": {},
     "output_type": "execute_result"
    }
   ],
   "source": [
    "# Replace all missing (nan) revies with empty \"\" string.\n",
    "# To aply given function we need firstly to remove all the NaN from \"review\" row in our dataframe.\n",
    "\n",
    "df[\"review\"].replace(np.nan, \"\", inplace=True)\n",
    "\n",
    "#short test:\n",
    "df[\"review\"][38] == df[\"review\"][38]"
   ]
  },
  {
   "cell_type": "code",
   "execution_count": 43,
   "id": "d80dc0c2",
   "metadata": {},
   "outputs": [
    {
     "data": {
      "text/html": [
       "<div>\n",
       "<style scoped>\n",
       "    .dataframe tbody tr th:only-of-type {\n",
       "        vertical-align: middle;\n",
       "    }\n",
       "\n",
       "    .dataframe tbody tr th {\n",
       "        vertical-align: top;\n",
       "    }\n",
       "\n",
       "    .dataframe thead th {\n",
       "        text-align: right;\n",
       "    }\n",
       "</style>\n",
       "<table border=\"1\" class=\"dataframe\">\n",
       "  <thead>\n",
       "    <tr style=\"text-align: right;\">\n",
       "      <th></th>\n",
       "      <th>review</th>\n",
       "      <th>sentiment</th>\n",
       "    </tr>\n",
       "  </thead>\n",
       "  <tbody>\n",
       "    <tr>\n",
       "      <th>0</th>\n",
       "      <td>One of the other reviewers has mentioned that ...</td>\n",
       "      <td>positive</td>\n",
       "    </tr>\n",
       "    <tr>\n",
       "      <th>1</th>\n",
       "      <td>A wonderful little production. The filming tec...</td>\n",
       "      <td>positive</td>\n",
       "    </tr>\n",
       "    <tr>\n",
       "      <th>2</th>\n",
       "      <td>I thought this was a wonderful way to spend ti...</td>\n",
       "      <td>positive</td>\n",
       "    </tr>\n",
       "    <tr>\n",
       "      <th>3</th>\n",
       "      <td>Basically there's a family where a little boy ...</td>\n",
       "      <td>negative</td>\n",
       "    </tr>\n",
       "    <tr>\n",
       "      <th>4</th>\n",
       "      <td>Petter Mattei's \"Love in the Time of Money\" is...</td>\n",
       "      <td>positive</td>\n",
       "    </tr>\n",
       "  </tbody>\n",
       "</table>\n",
       "</div>"
      ],
      "text/plain": [
       "                                              review sentiment\n",
       "0  One of the other reviewers has mentioned that ...  positive\n",
       "1  A wonderful little production. The filming tec...  positive\n",
       "2  I thought this was a wonderful way to spend ti...  positive\n",
       "3  Basically there's a family where a little boy ...  negative\n",
       "4  Petter Mattei's \"Love in the Time of Money\" is...  positive"
      ]
     },
     "execution_count": 43,
     "metadata": {},
     "output_type": "execute_result"
    }
   ],
   "source": [
    "# We also need to remove \"br\" from reviews since it was used to create new line in review on the IMDB website.\n",
    "df[\"review\"] = df[\"review\"].str.replace(\"<br />\", '')\n",
    "df.head()"
   ]
  },
  {
   "cell_type": "code",
   "execution_count": 44,
   "id": "cd8c9ef9",
   "metadata": {},
   "outputs": [
    {
     "name": "stdout",
     "output_type": "stream",
     "text": [
      "Petter Matteis Love in the Time of Money is a visually stunning film to watch Mr Mattei offers us a vivid portrait about human relations This is a movie that seems to be telling us what money power and success do to people in the different situations we encounter This being a variation on the Arthur Schnitzlers play about the same theme the director transfers the action to the present time New York where all these different characters meet and connect Each one is connected in one way or another to the next person but no one seems to know the previous point of contact Stylishly the film has a sophisticated luxurious look We are taken to see how these people live and the world they live in their own habitatThe only thing one gets out of all these souls in the picture is the different stages of loneliness each one inhabits A big city is not exactly the best place in which human relations find sincere fulfillment as one discerns is the case with most of the people we encounterThe acting is good under Mr Matteis direction Steve Buscemi Rosario Dawson Carol Kane Michael Imperioli Adrian Grenier and the rest of the talented cast make these characters come aliveWe wish Mr Mattei good luck and await anxiously for his next work\n"
     ]
    }
   ],
   "source": [
    "# Remove punctuation from reviews using the given function.\n",
    "df[\"review\"] = df[\"review\"].apply(remove_punctuation)\n",
    "print(df[\"review\"][4]) #testing if we removed punctuation from reviews"
   ]
  },
  {
   "cell_type": "code",
   "execution_count": 45,
   "id": "87862b2a",
   "metadata": {},
   "outputs": [
    {
     "data": {
      "text/html": [
       "<div>\n",
       "<style scoped>\n",
       "    .dataframe tbody tr th:only-of-type {\n",
       "        vertical-align: middle;\n",
       "    }\n",
       "\n",
       "    .dataframe tbody tr th {\n",
       "        vertical-align: top;\n",
       "    }\n",
       "\n",
       "    .dataframe thead th {\n",
       "        text-align: right;\n",
       "    }\n",
       "</style>\n",
       "<table border=\"1\" class=\"dataframe\">\n",
       "  <thead>\n",
       "    <tr style=\"text-align: right;\">\n",
       "      <th></th>\n",
       "      <th>review</th>\n",
       "      <th>sentiment</th>\n",
       "    </tr>\n",
       "  </thead>\n",
       "  <tbody>\n",
       "    <tr>\n",
       "      <th>0</th>\n",
       "      <td>One of the other reviewers has mentioned that ...</td>\n",
       "      <td>1</td>\n",
       "    </tr>\n",
       "    <tr>\n",
       "      <th>1</th>\n",
       "      <td>A wonderful little production The filming tech...</td>\n",
       "      <td>1</td>\n",
       "    </tr>\n",
       "    <tr>\n",
       "      <th>2</th>\n",
       "      <td>I thought this was a wonderful way to spend ti...</td>\n",
       "      <td>1</td>\n",
       "    </tr>\n",
       "    <tr>\n",
       "      <th>3</th>\n",
       "      <td>Basically theres a family where a little boy J...</td>\n",
       "      <td>-1</td>\n",
       "    </tr>\n",
       "    <tr>\n",
       "      <th>4</th>\n",
       "      <td>Petter Matteis Love in the Time of Money is a ...</td>\n",
       "      <td>1</td>\n",
       "    </tr>\n",
       "  </tbody>\n",
       "</table>\n",
       "</div>"
      ],
      "text/plain": [
       "                                              review  sentiment\n",
       "0  One of the other reviewers has mentioned that ...          1\n",
       "1  A wonderful little production The filming tech...          1\n",
       "2  I thought this was a wonderful way to spend ti...          1\n",
       "3  Basically theres a family where a little boy J...         -1\n",
       "4  Petter Matteis Love in the Time of Money is a ...          1"
      ]
     },
     "execution_count": 45,
     "metadata": {},
     "output_type": "execute_result"
    }
   ],
   "source": [
    "# d)  Set all positive ratings to 1 and negative to -1.\n",
    "df[\"sentiment\"].replace('positive', 1, inplace = True)\n",
    "df[\"sentiment\"].replace('negative', -1, inplace = True)\n",
    "df.head() # let's test if we replaced ratings successfully"
   ]
  },
  {
   "cell_type": "code",
   "execution_count": 46,
   "id": "78b62a83",
   "metadata": {},
   "outputs": [],
   "source": [
    "# In exercise 3 we can see that as most popular words we get numbers so we will remove all the numbers from our reviews\n",
    "df[\"review\"] = df[\"review\"].str.replace('\\d+', '', regex=True)"
   ]
  },
  {
   "cell_type": "markdown",
   "id": "de914c94",
   "metadata": {},
   "source": [
    "# Exercise 2\n",
    "a) Split dataset into training and test sets. \\\n",
    "b) Transform reviews into vectors using CountVectorizer."
   ]
  },
  {
   "cell_type": "code",
   "execution_count": 47,
   "id": "73c5e382",
   "metadata": {},
   "outputs": [],
   "source": [
    "# a)\n",
    "from sklearn.model_selection import train_test_split\n",
    "\n",
    "train, test = train_test_split(df, train_size=0.8, test_size=0.2)"
   ]
  },
  {
   "cell_type": "code",
   "execution_count": 48,
   "id": "306885fa",
   "metadata": {},
   "outputs": [],
   "source": [
    "# b)\n",
    "from sklearn.feature_extraction.text import CountVectorizer\n",
    "\n",
    "vectorizer = CountVectorizer()\n",
    "x_train = vectorizer.fit_transform(list(train[\"review\"]))\n",
    "x_test = vectorizer.transform(list(test[\"review\"]))"
   ]
  },
  {
   "cell_type": "markdown",
   "id": "82fce637",
   "metadata": {},
   "source": [
    "# Summary:"
   ]
  },
  {
   "cell_type": "markdown",
   "id": "f27ce823",
   "metadata": {},
   "source": [
    "# Exercise 3\n",
    "a) Train LogisticRegression model on training data (reviews processed with CountVectorizer, ratings as they were). \\\n",
    "b) Print 10 most positive and 10 most negative words."
   ]
  },
  {
   "cell_type": "code",
   "execution_count": 49,
   "id": "61c72682",
   "metadata": {},
   "outputs": [
    {
     "data": {
      "text/html": [
       "<style>#sk-container-id-5 {color: black;background-color: white;}#sk-container-id-5 pre{padding: 0;}#sk-container-id-5 div.sk-toggleable {background-color: white;}#sk-container-id-5 label.sk-toggleable__label {cursor: pointer;display: block;width: 100%;margin-bottom: 0;padding: 0.3em;box-sizing: border-box;text-align: center;}#sk-container-id-5 label.sk-toggleable__label-arrow:before {content: \"▸\";float: left;margin-right: 0.25em;color: #696969;}#sk-container-id-5 label.sk-toggleable__label-arrow:hover:before {color: black;}#sk-container-id-5 div.sk-estimator:hover label.sk-toggleable__label-arrow:before {color: black;}#sk-container-id-5 div.sk-toggleable__content {max-height: 0;max-width: 0;overflow: hidden;text-align: left;background-color: #f0f8ff;}#sk-container-id-5 div.sk-toggleable__content pre {margin: 0.2em;color: black;border-radius: 0.25em;background-color: #f0f8ff;}#sk-container-id-5 input.sk-toggleable__control:checked~div.sk-toggleable__content {max-height: 200px;max-width: 100%;overflow: auto;}#sk-container-id-5 input.sk-toggleable__control:checked~label.sk-toggleable__label-arrow:before {content: \"▾\";}#sk-container-id-5 div.sk-estimator input.sk-toggleable__control:checked~label.sk-toggleable__label {background-color: #d4ebff;}#sk-container-id-5 div.sk-label input.sk-toggleable__control:checked~label.sk-toggleable__label {background-color: #d4ebff;}#sk-container-id-5 input.sk-hidden--visually {border: 0;clip: rect(1px 1px 1px 1px);clip: rect(1px, 1px, 1px, 1px);height: 1px;margin: -1px;overflow: hidden;padding: 0;position: absolute;width: 1px;}#sk-container-id-5 div.sk-estimator {font-family: monospace;background-color: #f0f8ff;border: 1px dotted black;border-radius: 0.25em;box-sizing: border-box;margin-bottom: 0.5em;}#sk-container-id-5 div.sk-estimator:hover {background-color: #d4ebff;}#sk-container-id-5 div.sk-parallel-item::after {content: \"\";width: 100%;border-bottom: 1px solid gray;flex-grow: 1;}#sk-container-id-5 div.sk-label:hover label.sk-toggleable__label {background-color: #d4ebff;}#sk-container-id-5 div.sk-serial::before {content: \"\";position: absolute;border-left: 1px solid gray;box-sizing: border-box;top: 0;bottom: 0;left: 50%;z-index: 0;}#sk-container-id-5 div.sk-serial {display: flex;flex-direction: column;align-items: center;background-color: white;padding-right: 0.2em;padding-left: 0.2em;position: relative;}#sk-container-id-5 div.sk-item {position: relative;z-index: 1;}#sk-container-id-5 div.sk-parallel {display: flex;align-items: stretch;justify-content: center;background-color: white;position: relative;}#sk-container-id-5 div.sk-item::before, #sk-container-id-5 div.sk-parallel-item::before {content: \"\";position: absolute;border-left: 1px solid gray;box-sizing: border-box;top: 0;bottom: 0;left: 50%;z-index: -1;}#sk-container-id-5 div.sk-parallel-item {display: flex;flex-direction: column;z-index: 1;position: relative;background-color: white;}#sk-container-id-5 div.sk-parallel-item:first-child::after {align-self: flex-end;width: 50%;}#sk-container-id-5 div.sk-parallel-item:last-child::after {align-self: flex-start;width: 50%;}#sk-container-id-5 div.sk-parallel-item:only-child::after {width: 0;}#sk-container-id-5 div.sk-dashed-wrapped {border: 1px dashed gray;margin: 0 0.4em 0.5em 0.4em;box-sizing: border-box;padding-bottom: 0.4em;background-color: white;}#sk-container-id-5 div.sk-label label {font-family: monospace;font-weight: bold;display: inline-block;line-height: 1.2em;}#sk-container-id-5 div.sk-label-container {text-align: center;}#sk-container-id-5 div.sk-container {/* jupyter's `normalize.less` sets `[hidden] { display: none; }` but bootstrap.min.css set `[hidden] { display: none !important; }` so we also need the `!important` here to be able to override the default hidden behavior on the sphinx rendered scikit-learn.org. See: https://github.com/scikit-learn/scikit-learn/issues/21755 */display: inline-block !important;position: relative;}#sk-container-id-5 div.sk-text-repr-fallback {display: none;}</style><div id=\"sk-container-id-5\" class=\"sk-top-container\"><div class=\"sk-text-repr-fallback\"><pre>LogisticRegression(max_iter=20000)</pre><b>In a Jupyter environment, please rerun this cell to show the HTML representation or trust the notebook. <br />On GitHub, the HTML representation is unable to render, please try loading this page with nbviewer.org.</b></div><div class=\"sk-container\" hidden><div class=\"sk-item\"><div class=\"sk-estimator sk-toggleable\"><input class=\"sk-toggleable__control sk-hidden--visually\" id=\"sk-estimator-id-5\" type=\"checkbox\" checked><label for=\"sk-estimator-id-5\" class=\"sk-toggleable__label sk-toggleable__label-arrow\">LogisticRegression</label><div class=\"sk-toggleable__content\"><pre>LogisticRegression(max_iter=20000)</pre></div></div></div></div></div>"
      ],
      "text/plain": [
       "LogisticRegression(max_iter=20000)"
      ]
     },
     "execution_count": 49,
     "metadata": {},
     "output_type": "execute_result"
    }
   ],
   "source": [
    "#a)\n",
    "y_train = train[\"sentiment\"]\n",
    "\n",
    "model = LogisticRegression(solver='lbfgs', max_iter=20000)\n",
    "model.fit(x_train, y_train)"
   ]
  },
  {
   "cell_type": "code",
   "execution_count": 50,
   "id": "f84cff70",
   "metadata": {},
   "outputs": [
    {
     "name": "stdout",
     "output_type": "stream",
     "text": [
      "Most positive words: refreshing, finest, erotic, disappoint, perfect, excellent, penny, funniest, superb, wonderfully, \n",
      "\n",
      "Most negative words: waste, disappointment, worst, forgettable, mstk, awful, wasting, boring, poorly, fails, \n",
      "\n"
     ]
    }
   ],
   "source": [
    "#b)\n",
    "# Get the indices of the sorted cofficients\n",
    "ascending = np.argsort(model.coef_.flatten()) \n",
    "descending = ascending[::-1]\n",
    "\n",
    "vocab = np.array(vectorizer.get_feature_names_out())\n",
    "\n",
    "# Print most positive words\n",
    "print(\"Most positive words: \", end=\"\")\n",
    "for i in range(10):\n",
    "    print(vocab[descending[i]], end=\", \")\n",
    "print(\"\\n\")\n",
    "\n",
    "# Print most negative words\n",
    "print(\"Most negative words: \", end=\"\")\n",
    "for i in range(10):\n",
    "    print(vocab[ascending[i]], end=\", \")\n",
    "print(\"\\n\")"
   ]
  },
  {
   "cell_type": "markdown",
   "id": "ff5a72d5",
   "metadata": {},
   "source": [
    "# Exercise 4\n",
    "a) Predict the sentiment of test data reviews. \\\n",
    "b) Predict the sentiment of test data reviews in terms of probability. \\\n",
    "c) Find five most positive and most negative reviews. \\\n",
    "d) Calculate the accuracy of predictions."
   ]
  },
  {
   "cell_type": "code",
   "execution_count": 51,
   "id": "aab3541b",
   "metadata": {},
   "outputs": [
    {
     "data": {
      "text/plain": [
       "array([-1, -1, -1, ...,  1,  1,  1], dtype=int64)"
      ]
     },
     "execution_count": 51,
     "metadata": {},
     "output_type": "execute_result"
    }
   ],
   "source": [
    "# a)\n",
    "model.predict(x_test)"
   ]
  },
  {
   "cell_type": "code",
   "execution_count": 52,
   "id": "1dd9c054",
   "metadata": {},
   "outputs": [
    {
     "name": "stdout",
     "output_type": "stream",
     "text": [
      "[[9.99168374e-01 8.31626484e-04]\n",
      " [9.14657223e-01 8.53427765e-02]\n",
      " [9.99999999e-01 7.64490298e-10]\n",
      " ...\n",
      " [2.73958293e-02 9.72604171e-01]\n",
      " [1.90502878e-03 9.98094971e-01]\n",
      " [1.28552185e-02 9.87144781e-01]]\n"
     ]
    }
   ],
   "source": [
    "# b)\n",
    "pred = model.predict_proba(x_test)\n",
    "print(pred)"
   ]
  },
  {
   "cell_type": "code",
   "execution_count": 53,
   "id": "772b67ea",
   "metadata": {},
   "outputs": [
    {
     "name": "stdout",
     "output_type": "stream",
     "text": [
      "Five most positive reviews: \n",
      "1 )\n",
      "I am not a very good writer so Ill keep this short World at War is the best WWII documentary that Ive seen Ive seen different WWII documentaries not only EnglishNorth American and this documentary seems to be the most complete WWII documentary that Ive seen I think it could talk a bit more about the Great Depression and whyhow Hitler got to power but it does a very good job at covering the war It seems to be complete and objectivefair to everyone It does not exaggerate or diminish roles of different nations It has a lot of original footage including color footage and many eye witnesses it was made in s when a lot more were alive It has great music and narrator AllinAll I gave this one  because its that good I havent seen specials in DVD version so I cannot comment on those\n",
      "2 )\n",
      "This is a truly wonderful love story I liked the songs however even if you do not you have to love the story Peter OToole is at his best and Petula Clark is doing fine as well I first saw this when I was about  and loved it then Now in my forties I still enjoy it probably even more Still makes me cry and laugh and feel good It is a movie to watch only with a new age guy or by yourself as it is a chick flick But whats wrong with that Need a little romance and maybe a little cry try this movie\n",
      "3 )\n",
      "As someone who was born to a German mother and English father who spent five years in a prisoner of war camp I come from unique position One of having to deal with the various Nazis on one side of the family and the victors of WW on the other This miniseries cannot delve into every single part of Hitlers psyche and must give the viewer a general flavor of the situation at the time and as best as one can Hitlers state of mind In this the series does quite well Carlyle is very good as is OToole I would however liked to have got more information on the relationships with others in party Because Hitler did not do anything on his own He had people around him that followed him to the letter often without question and certainly without question later on in his murderous career What was going through Goebbels Goring and Hesss mind It would have been helpful to see more of these relationships But I hope it will make people research the subject more It might also make people understand why someone like Saddam Hussein cannot be allowed to continue in power\n",
      "4 )\n",
      "Koyaanisquatsi is simply the best film Ive ever seen Its a masterpiece where everything is at the right place Some scenes are not nice or beautiful but the camera never peeks or intrudes This is exactly whats happening here The camera is used to intrude to disgrace and to ridicule There is no magic flow here no sense of greatness or respect Instead some scenes are cobbled together without greater purpose or plan The music is disturbing Just as I rated Koyaanisquatsi the best film ever made this one is the worst Its a pure movie too but this is the negative form exactly that which should not be done\n",
      "5 )\n",
      "i really liked this filmit features John Wayne in his first starring performanceeven thenyou can tell Wayne has a real presencealthough he wouldnt really mature into the icon he is known for until Stagecoach years later in its about settlers from all over the country heading to the new west to colonize itWaynes character Breck Coleman joins upbut for his own personal reasonsmost of the main actors were stage actors and had never done a film beforewhich makes the movie even more amazingthey managed to create believabledistinctive characters and there is quite an oddball mix hereCimarron would come out a year laterand had a very similar storythough i didnt like it as much as this moviefor meThe Big Trail is a strong \n",
      "\n",
      "\n",
      "Five most negative reviews: \n",
      "1 )\n",
      "Truly appalling waste of space Me and my friend tried to watch this film to its conclusion but had to switch it off about  minutes from the end And i can count the films I have switched off before the end on one handThe script and direction are leaden and deeply uninspiring I wouldnt be surprised if they found the script in a pile of cast off scripts from  For example the irritating scroat threatening the real estate guy from his house phone I mean seriously The police would be beating his door down in minutes The scenes and events just wash by you like turds in a river It is difficult to understand the actual thrust of the film The narrative flicks between characters in a seemingly random manner breaking up the pathetic attempts at building the characters Oh and what characters they are The protagonist played by Rourke is dreadful He could have just sent a cardboard cut out of himself and stayed in bed After  or so minutes of the film I had built absolutely zero attachment to this character He is neither sympathetic nor hateful Just a disfigured dummy from a shop window blundering through every single scene His motivation is impossible to discern from his generally mumbled and emotionless delivery Is he happy Is he sad Angry No idea Just those same dead eyes staring out at you from a disfigured chunk of flesh And the native American theme is just awful and pointlessThe good guys are at best unlikeable A dull white collar stereotype and a simpering neurotic exwife stereotype Cue archetypal wife with shotgun face off with bad guy you arent going to shoot me that is both tiresomely unoriginal and annoyingThe richie nix character seems interesting at first but soon descends into an irritating one sided psycho character Which seems at odds with the seeming intention of making the bad guys in some way sympathetic or at least realistically motivatedRoasario Dawsons character starts with some promise but soon descends into a sickening and childlike parody of the gangsters chick scenes from Jackie Brown You really want me to believe her character was SO attracted to Rourkes Or worse she is just a floozy who sleeps with anything that moves Realistic female characters FTW In summary a complete mess of a film Hopeless characterisations and performances A leaden and hackneyed script along with uninspired direction And ultimately extremely dull Its not even comedy bad either Laughing at Rourkes haggard face gets pretty old after sitting through the first  turgid minutes of the film\n",
      "2 )\n",
      "Thsi is one great movie probably the best movie i have ever seen I Watch it over and over again I must give it  stars because like i said this is probably the best movie i have ever seen This Movie PopcornCoke Best mix you can imagine If you want to watch some movie then i clearly recommend this one First i sawed it i liked it so i buyed it and now i own it and watch it probably every day my sons like it and think that this is the best movie ever seen This movie is about Guy In Fantasy World i dont want to spoil all the movie so you can enjoy it after you read my text Lovely Movie Lovely Characters Lovely Story And Just great stuff a must watch movie hope you enjoyed my comment CyaJim Make\n",
      "3 )\n",
      "LIFEFORCE is an extremely schizophrenic movie based on Colin Wilsons novel The Space Vampires the script ignores most of the novels concepts and structure  Indeed it owes more to the QUATERMASS serials than the novel  but the scenes it does leave in from the novel are nearly identical to those in the film  And talking of the script it must be one of the most uneven in cinema history  its though it was written in chapters by several different people Take for instance Carlson  he disappears after the early shuttle scenes which led me to believe he was dead then he turns up again halfway through the film in order to explain the plot to the beleaguered Brits and its this lack of attention by the screenwriters that spoils the film  And theres plenty of other clumsy scripting such as the heroes returning to London in a helicopter and not realising it has been over run by zombies untill theyre flying over it I could go on at great length about these plot holes but LIFEFORCE is actually enjoyable to watch as long as you dont use your brain  Its good to see a scifi horror film from an era when aliens were portrayed as being cute creatures that children hid in their bedrooms so that nasty human adults wouldnt get their hands on them  The special effects and pyrotechnics are very very good  theres lots of action and stunts and LIFEFORCE features one of the most memorable aliens in the form of the space girl  When mentioning LIFEFORCE in conversation with males its always a race to say  Seen the alien in LIFEFORCE She can suck the lifeforce out of me anytime  Hardly surprising looking at the demographics of the votes that this film is more popular with males than females Dont worry  A naked girl cant escape from here  Cant she  Pity\n",
      "4 )\n",
      "Man I had my doubts I love Kathy Bates but I thought how good can this be I had never even heard of this thing You know it was one of those things we gave it  minutes and well turn it off if it sucks and we were locked in from the getgo This is a very winsome fun movie Its quirky you know I mean youve got a lounge singer a murderer and a believable one you have farce then Kathy Bates in all her acting splendor Rupert Everett finally acting to his real potential Dan Ackroyd and a dwarf that will make you laugh out loud I tell ya youll laughyoull cry Maybe I had a weird week but I think this film is on the level of Fried Green Tomatoes If you dont like that movie maybe you wont like this but I think it was a great movie I went out and bought the DVD\n",
      "5 )\n",
      "Dear Friends and FamilyI guess if one teen wants to become biblical with another teen then thats their eternal damnation  just remember kids birth control doesnt mean oral sex I dont care what the honor student says On the other hand even if the senators aid quotes himself as a bit of a romantic guy hes still only hitting on a high school girl If she was my sister Id eat this guys kneecapsOther than that I found out that Mongolians dont kiss the same way the French do and that baseball players named Zoo like delicate undergarmentsI think Id almost rather watch Richie Rich one more time than suffer the indignity of this slip slap slop Thank you and good night\n"
     ]
    }
   ],
   "source": [
    "# c) Find five most positive and most negative reviews.\n",
    "ascendingproba = np.argsort(pred[:,[0]].flatten()) \n",
    "\n",
    "#     Positive reviews\n",
    "print(\"Five most positive reviews: \")\n",
    "for i in range (5):\n",
    "    print(i+1, \")\")\n",
    "    print(list(train[\"review\"])[ascendingproba[i]])\n",
    "\n",
    "print()\n",
    "print()\n",
    "print(\"Five most negative reviews: \")\n",
    "#     Negative reviews\n",
    "descendingproba = ascendingproba[::-1]\n",
    "for i in range (5):\n",
    "    print(i+1, \")\")\n",
    "    print(list(train[\"review\"])[descendingproba[i]])"
   ]
  },
  {
   "cell_type": "code",
   "execution_count": 55,
   "id": "5c2cacd4",
   "metadata": {},
   "outputs": [
    {
     "data": {
      "text/plain": [
       "0.8896"
      ]
     },
     "execution_count": 55,
     "metadata": {},
     "output_type": "execute_result"
    }
   ],
   "source": [
    "# d) Calculate the accuracy of predictions.\n",
    "y_test = test[\"sentiment\"]\n",
    "model.score(x_test, y_test)"
   ]
  },
  {
   "cell_type": "markdown",
   "id": "679cc780",
   "metadata": {},
   "source": [
    "# Exercise 5\n",
    "In this exercise we will limit the dictionary of CountVectorizer to the set of significant words, defined below.\n",
    "\n",
    "a) Redo exercises 2-5 using limited dictionary.\n",
    "b) Check the impact of all the words from the dictionary.\n",
    "c) Compare accuracy of predictions and the time of evaluation."
   ]
  },
  {
   "cell_type": "code",
   "execution_count": 56,
   "id": "0103b228",
   "metadata": {},
   "outputs": [
    {
     "data": {
      "text/html": [
       "<style>#sk-container-id-6 {color: black;background-color: white;}#sk-container-id-6 pre{padding: 0;}#sk-container-id-6 div.sk-toggleable {background-color: white;}#sk-container-id-6 label.sk-toggleable__label {cursor: pointer;display: block;width: 100%;margin-bottom: 0;padding: 0.3em;box-sizing: border-box;text-align: center;}#sk-container-id-6 label.sk-toggleable__label-arrow:before {content: \"▸\";float: left;margin-right: 0.25em;color: #696969;}#sk-container-id-6 label.sk-toggleable__label-arrow:hover:before {color: black;}#sk-container-id-6 div.sk-estimator:hover label.sk-toggleable__label-arrow:before {color: black;}#sk-container-id-6 div.sk-toggleable__content {max-height: 0;max-width: 0;overflow: hidden;text-align: left;background-color: #f0f8ff;}#sk-container-id-6 div.sk-toggleable__content pre {margin: 0.2em;color: black;border-radius: 0.25em;background-color: #f0f8ff;}#sk-container-id-6 input.sk-toggleable__control:checked~div.sk-toggleable__content {max-height: 200px;max-width: 100%;overflow: auto;}#sk-container-id-6 input.sk-toggleable__control:checked~label.sk-toggleable__label-arrow:before {content: \"▾\";}#sk-container-id-6 div.sk-estimator input.sk-toggleable__control:checked~label.sk-toggleable__label {background-color: #d4ebff;}#sk-container-id-6 div.sk-label input.sk-toggleable__control:checked~label.sk-toggleable__label {background-color: #d4ebff;}#sk-container-id-6 input.sk-hidden--visually {border: 0;clip: rect(1px 1px 1px 1px);clip: rect(1px, 1px, 1px, 1px);height: 1px;margin: -1px;overflow: hidden;padding: 0;position: absolute;width: 1px;}#sk-container-id-6 div.sk-estimator {font-family: monospace;background-color: #f0f8ff;border: 1px dotted black;border-radius: 0.25em;box-sizing: border-box;margin-bottom: 0.5em;}#sk-container-id-6 div.sk-estimator:hover {background-color: #d4ebff;}#sk-container-id-6 div.sk-parallel-item::after {content: \"\";width: 100%;border-bottom: 1px solid gray;flex-grow: 1;}#sk-container-id-6 div.sk-label:hover label.sk-toggleable__label {background-color: #d4ebff;}#sk-container-id-6 div.sk-serial::before {content: \"\";position: absolute;border-left: 1px solid gray;box-sizing: border-box;top: 0;bottom: 0;left: 50%;z-index: 0;}#sk-container-id-6 div.sk-serial {display: flex;flex-direction: column;align-items: center;background-color: white;padding-right: 0.2em;padding-left: 0.2em;position: relative;}#sk-container-id-6 div.sk-item {position: relative;z-index: 1;}#sk-container-id-6 div.sk-parallel {display: flex;align-items: stretch;justify-content: center;background-color: white;position: relative;}#sk-container-id-6 div.sk-item::before, #sk-container-id-6 div.sk-parallel-item::before {content: \"\";position: absolute;border-left: 1px solid gray;box-sizing: border-box;top: 0;bottom: 0;left: 50%;z-index: -1;}#sk-container-id-6 div.sk-parallel-item {display: flex;flex-direction: column;z-index: 1;position: relative;background-color: white;}#sk-container-id-6 div.sk-parallel-item:first-child::after {align-self: flex-end;width: 50%;}#sk-container-id-6 div.sk-parallel-item:last-child::after {align-self: flex-start;width: 50%;}#sk-container-id-6 div.sk-parallel-item:only-child::after {width: 0;}#sk-container-id-6 div.sk-dashed-wrapped {border: 1px dashed gray;margin: 0 0.4em 0.5em 0.4em;box-sizing: border-box;padding-bottom: 0.4em;background-color: white;}#sk-container-id-6 div.sk-label label {font-family: monospace;font-weight: bold;display: inline-block;line-height: 1.2em;}#sk-container-id-6 div.sk-label-container {text-align: center;}#sk-container-id-6 div.sk-container {/* jupyter's `normalize.less` sets `[hidden] { display: none; }` but bootstrap.min.css set `[hidden] { display: none !important; }` so we also need the `!important` here to be able to override the default hidden behavior on the sphinx rendered scikit-learn.org. See: https://github.com/scikit-learn/scikit-learn/issues/21755 */display: inline-block !important;position: relative;}#sk-container-id-6 div.sk-text-repr-fallback {display: none;}</style><div id=\"sk-container-id-6\" class=\"sk-top-container\"><div class=\"sk-text-repr-fallback\"><pre>LogisticRegression(max_iter=20000)</pre><b>In a Jupyter environment, please rerun this cell to show the HTML representation or trust the notebook. <br />On GitHub, the HTML representation is unable to render, please try loading this page with nbviewer.org.</b></div><div class=\"sk-container\" hidden><div class=\"sk-item\"><div class=\"sk-estimator sk-toggleable\"><input class=\"sk-toggleable__control sk-hidden--visually\" id=\"sk-estimator-id-6\" type=\"checkbox\" checked><label for=\"sk-estimator-id-6\" class=\"sk-toggleable__label sk-toggleable__label-arrow\">LogisticRegression</label><div class=\"sk-toggleable__content\"><pre>LogisticRegression(max_iter=20000)</pre></div></div></div></div></div>"
      ],
      "text/plain": [
       "LogisticRegression(max_iter=20000)"
      ]
     },
     "execution_count": 56,
     "metadata": {},
     "output_type": "execute_result"
    }
   ],
   "source": [
    "# 5a)\n",
    "words = [\"refreshing\",\"finest\", \"disappoint\", \"perfect\", \"excellent\", \"penny\", \"funniest\", \"superb\", \"wonderfully\", \"waste\", \"disappointment\", \"worst\", \"forgettable\", \"mstk\", \"awful\", \"wasting\", \"boring\", \"poorly\", \"fails\",\"erotic\"]\n",
    "\n",
    "# Excercise 2\n",
    "# Transform reviews into vectors using CountVectorizer. We limiting dictionary of CountVectorizer\n",
    "vectorizer_dict = CountVectorizer(vocabulary=words)\n",
    "x_train_dict = vectorizer_dict.fit_transform(list(train[\"review\"]))\n",
    "x_test_dict = vectorizer_dict.transform(list(test[\"review\"]))\n",
    "\n",
    "# Excercise 3\n",
    "# Train LogisticRegression model on training data\n",
    "y_train_dict = train[\"sentiment\"]\n",
    "model_dict = LogisticRegression(solver='lbfgs', max_iter=20000)\n",
    "model_dict.fit(x_train_dict, y_train_dict)"
   ]
  },
  {
   "cell_type": "code",
   "execution_count": null,
   "id": "1aa33272",
   "metadata": {},
   "outputs": [],
   "source": []
  }
 ],
 "metadata": {
  "kernelspec": {
   "display_name": "Python 3 (ipykernel)",
   "language": "python",
   "name": "python3"
  },
  "language_info": {
   "codemirror_mode": {
    "name": "ipython",
    "version": 3
   },
   "file_extension": ".py",
   "mimetype": "text/x-python",
   "name": "python",
   "nbconvert_exporter": "python",
   "pygments_lexer": "ipython3",
   "version": "3.10.6"
  }
 },
 "nbformat": 4,
 "nbformat_minor": 5
}
