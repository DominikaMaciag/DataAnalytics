{
 "cells": [
  {
   "cell_type": "markdown",
   "id": "f27262cc",
   "metadata": {},
   "source": [
    "# Assignment 4 optional\n",
    "author: Dominika Maciąg"
   ]
  },
  {
   "cell_type": "markdown",
   "id": "77eed62b",
   "metadata": {},
   "source": [
    "# IMDB Dataset of 50K Movie Reviews\n",
    "## About the dataset that I am using:\n",
    "https://www.kaggle.com/datasets/lakshmi25npathi/imdb-dataset-of-50k-movie-reviews?resource=download\n",
    "    \n",
    "IMDb is an online database that contains information related to films, television series, video games, \n",
    "and streaming content online – including cast, production crew and personal biographies, plot summaries, trivia, ratings, \n",
    "and fan and critical reviews. \n",
    "\n",
    "The dataset that I am using contains 50 000 reviews of movies which are positive and negative.\n"
   ]
  },
  {
   "cell_type": "code",
   "execution_count": 193,
   "id": "5906ecaf",
   "metadata": {},
   "outputs": [
    {
     "data": {
      "text/html": [
       "<div>\n",
       "<style scoped>\n",
       "    .dataframe tbody tr th:only-of-type {\n",
       "        vertical-align: middle;\n",
       "    }\n",
       "\n",
       "    .dataframe tbody tr th {\n",
       "        vertical-align: top;\n",
       "    }\n",
       "\n",
       "    .dataframe thead th {\n",
       "        text-align: right;\n",
       "    }\n",
       "</style>\n",
       "<table border=\"1\" class=\"dataframe\">\n",
       "  <thead>\n",
       "    <tr style=\"text-align: right;\">\n",
       "      <th></th>\n",
       "      <th>review</th>\n",
       "      <th>sentiment</th>\n",
       "    </tr>\n",
       "  </thead>\n",
       "  <tbody>\n",
       "    <tr>\n",
       "      <th>0</th>\n",
       "      <td>One of the other reviewers has mentioned that ...</td>\n",
       "      <td>positive</td>\n",
       "    </tr>\n",
       "    <tr>\n",
       "      <th>1</th>\n",
       "      <td>A wonderful little production. &lt;br /&gt;&lt;br /&gt;The...</td>\n",
       "      <td>positive</td>\n",
       "    </tr>\n",
       "    <tr>\n",
       "      <th>2</th>\n",
       "      <td>I thought this was a wonderful way to spend ti...</td>\n",
       "      <td>positive</td>\n",
       "    </tr>\n",
       "    <tr>\n",
       "      <th>3</th>\n",
       "      <td>Basically there's a family where a little boy ...</td>\n",
       "      <td>negative</td>\n",
       "    </tr>\n",
       "    <tr>\n",
       "      <th>4</th>\n",
       "      <td>Petter Mattei's \"Love in the Time of Money\" is...</td>\n",
       "      <td>positive</td>\n",
       "    </tr>\n",
       "  </tbody>\n",
       "</table>\n",
       "</div>"
      ],
      "text/plain": [
       "                                              review sentiment\n",
       "0  One of the other reviewers has mentioned that ...  positive\n",
       "1  A wonderful little production. <br /><br />The...  positive\n",
       "2  I thought this was a wonderful way to spend ti...  positive\n",
       "3  Basically there's a family where a little boy ...  negative\n",
       "4  Petter Mattei's \"Love in the Time of Money\" is...  positive"
      ]
     },
     "execution_count": 193,
     "metadata": {},
     "output_type": "execute_result"
    }
   ],
   "source": [
    "import pandas as pd\n",
    "import numpy as np\n",
    "import matplotlib.pyplot as plt\n",
    "import string\n",
    "from sklearn.linear_model import LogisticRegression\n",
    "\n",
    "def remove_punctuation(text):\n",
    "    import string\n",
    "    translator = str.maketrans('', '', string.punctuation)\n",
    "    return text.translate(translator)\n",
    "\n",
    "df = pd.read_csv('IMDB Dataset.csv')\n",
    "df.head()"
   ]
  },
  {
   "cell_type": "markdown",
   "id": "b9ff1672",
   "metadata": {},
   "source": [
    "# Exercise 1 \n",
    "Let's prepare our data"
   ]
  },
  {
   "cell_type": "code",
   "execution_count": 194,
   "id": "a99d173c",
   "metadata": {},
   "outputs": [
    {
     "data": {
      "text/plain": [
       "True"
      ]
     },
     "execution_count": 194,
     "metadata": {},
     "output_type": "execute_result"
    }
   ],
   "source": [
    "# Replace all missing (nan) revies with empty \"\" string.\n",
    "# To aply given function we need firstly to remove all the NaN from \"review\" row in our dataframe.\n",
    "\n",
    "df[\"review\"].replace(np.nan, \"\", inplace=True)\n",
    "\n",
    "#short test:\n",
    "df[\"review\"][38] == df[\"review\"][38]"
   ]
  },
  {
   "cell_type": "code",
   "execution_count": 195,
   "id": "d80dc0c2",
   "metadata": {},
   "outputs": [
    {
     "data": {
      "text/html": [
       "<div>\n",
       "<style scoped>\n",
       "    .dataframe tbody tr th:only-of-type {\n",
       "        vertical-align: middle;\n",
       "    }\n",
       "\n",
       "    .dataframe tbody tr th {\n",
       "        vertical-align: top;\n",
       "    }\n",
       "\n",
       "    .dataframe thead th {\n",
       "        text-align: right;\n",
       "    }\n",
       "</style>\n",
       "<table border=\"1\" class=\"dataframe\">\n",
       "  <thead>\n",
       "    <tr style=\"text-align: right;\">\n",
       "      <th></th>\n",
       "      <th>review</th>\n",
       "      <th>sentiment</th>\n",
       "    </tr>\n",
       "  </thead>\n",
       "  <tbody>\n",
       "    <tr>\n",
       "      <th>0</th>\n",
       "      <td>One of the other reviewers has mentioned that ...</td>\n",
       "      <td>positive</td>\n",
       "    </tr>\n",
       "    <tr>\n",
       "      <th>1</th>\n",
       "      <td>A wonderful little production. The filming tec...</td>\n",
       "      <td>positive</td>\n",
       "    </tr>\n",
       "    <tr>\n",
       "      <th>2</th>\n",
       "      <td>I thought this was a wonderful way to spend ti...</td>\n",
       "      <td>positive</td>\n",
       "    </tr>\n",
       "    <tr>\n",
       "      <th>3</th>\n",
       "      <td>Basically there's a family where a little boy ...</td>\n",
       "      <td>negative</td>\n",
       "    </tr>\n",
       "    <tr>\n",
       "      <th>4</th>\n",
       "      <td>Petter Mattei's \"Love in the Time of Money\" is...</td>\n",
       "      <td>positive</td>\n",
       "    </tr>\n",
       "  </tbody>\n",
       "</table>\n",
       "</div>"
      ],
      "text/plain": [
       "                                              review sentiment\n",
       "0  One of the other reviewers has mentioned that ...  positive\n",
       "1  A wonderful little production. The filming tec...  positive\n",
       "2  I thought this was a wonderful way to spend ti...  positive\n",
       "3  Basically there's a family where a little boy ...  negative\n",
       "4  Petter Mattei's \"Love in the Time of Money\" is...  positive"
      ]
     },
     "execution_count": 195,
     "metadata": {},
     "output_type": "execute_result"
    }
   ],
   "source": [
    "# We also need to remove \"br\" from reviews since it was used to create new line in review on the IMDB website.\n",
    "df[\"review\"] = df[\"review\"].str.replace(\"<br />\", '')\n",
    "df.head()"
   ]
  },
  {
   "cell_type": "code",
   "execution_count": 196,
   "id": "cd8c9ef9",
   "metadata": {},
   "outputs": [
    {
     "name": "stdout",
     "output_type": "stream",
     "text": [
      "Petter Matteis Love in the Time of Money is a visually stunning film to watch Mr Mattei offers us a vivid portrait about human relations This is a movie that seems to be telling us what money power and success do to people in the different situations we encounter This being a variation on the Arthur Schnitzlers play about the same theme the director transfers the action to the present time New York where all these different characters meet and connect Each one is connected in one way or another to the next person but no one seems to know the previous point of contact Stylishly the film has a sophisticated luxurious look We are taken to see how these people live and the world they live in their own habitatThe only thing one gets out of all these souls in the picture is the different stages of loneliness each one inhabits A big city is not exactly the best place in which human relations find sincere fulfillment as one discerns is the case with most of the people we encounterThe acting is good under Mr Matteis direction Steve Buscemi Rosario Dawson Carol Kane Michael Imperioli Adrian Grenier and the rest of the talented cast make these characters come aliveWe wish Mr Mattei good luck and await anxiously for his next work\n"
     ]
    }
   ],
   "source": [
    "# Remove punctuation from reviews using the given function.\n",
    "df[\"review\"] = df[\"review\"].apply(remove_punctuation)\n",
    "print(df[\"review\"][4]) #testing if we removed punctuation from reviews"
   ]
  },
  {
   "cell_type": "code",
   "execution_count": 197,
   "id": "87862b2a",
   "metadata": {},
   "outputs": [
    {
     "data": {
      "text/html": [
       "<div>\n",
       "<style scoped>\n",
       "    .dataframe tbody tr th:only-of-type {\n",
       "        vertical-align: middle;\n",
       "    }\n",
       "\n",
       "    .dataframe tbody tr th {\n",
       "        vertical-align: top;\n",
       "    }\n",
       "\n",
       "    .dataframe thead th {\n",
       "        text-align: right;\n",
       "    }\n",
       "</style>\n",
       "<table border=\"1\" class=\"dataframe\">\n",
       "  <thead>\n",
       "    <tr style=\"text-align: right;\">\n",
       "      <th></th>\n",
       "      <th>review</th>\n",
       "      <th>sentiment</th>\n",
       "    </tr>\n",
       "  </thead>\n",
       "  <tbody>\n",
       "    <tr>\n",
       "      <th>0</th>\n",
       "      <td>One of the other reviewers has mentioned that ...</td>\n",
       "      <td>1</td>\n",
       "    </tr>\n",
       "    <tr>\n",
       "      <th>1</th>\n",
       "      <td>A wonderful little production The filming tech...</td>\n",
       "      <td>1</td>\n",
       "    </tr>\n",
       "    <tr>\n",
       "      <th>2</th>\n",
       "      <td>I thought this was a wonderful way to spend ti...</td>\n",
       "      <td>1</td>\n",
       "    </tr>\n",
       "    <tr>\n",
       "      <th>3</th>\n",
       "      <td>Basically theres a family where a little boy J...</td>\n",
       "      <td>-1</td>\n",
       "    </tr>\n",
       "    <tr>\n",
       "      <th>4</th>\n",
       "      <td>Petter Matteis Love in the Time of Money is a ...</td>\n",
       "      <td>1</td>\n",
       "    </tr>\n",
       "  </tbody>\n",
       "</table>\n",
       "</div>"
      ],
      "text/plain": [
       "                                              review  sentiment\n",
       "0  One of the other reviewers has mentioned that ...          1\n",
       "1  A wonderful little production The filming tech...          1\n",
       "2  I thought this was a wonderful way to spend ti...          1\n",
       "3  Basically theres a family where a little boy J...         -1\n",
       "4  Petter Matteis Love in the Time of Money is a ...          1"
      ]
     },
     "execution_count": 197,
     "metadata": {},
     "output_type": "execute_result"
    }
   ],
   "source": [
    "# d)  Set all positive ratings to 1 and negative to -1.\n",
    "df[\"sentiment\"].replace('positive', 1, inplace = True)\n",
    "df[\"sentiment\"].replace('negative', -1, inplace = True)\n",
    "df.head() # let's test if we replaced ratings successfully"
   ]
  },
  {
   "cell_type": "code",
   "execution_count": 198,
   "id": "78b62a83",
   "metadata": {},
   "outputs": [],
   "source": [
    "# In exercise 3 we can see that as most popular words we get numbers so we will remove all the numbers from our reviews\n",
    "df[\"review\"] = df[\"review\"].str.replace('\\d+', '', regex=True)"
   ]
  },
  {
   "cell_type": "markdown",
   "id": "68af600c",
   "metadata": {},
   "source": [
    "# Summary:\n",
    "Firstly I cleaned the data that I have chosen. For better results I deleted all the numbers from the reviews and string \" < br /> \" that was used on the IMDB website as a new line symbol."
   ]
  },
  {
   "cell_type": "markdown",
   "id": "de914c94",
   "metadata": {},
   "source": [
    "# Exercise 2\n",
    "a) Split dataset into training and test sets. \\\n",
    "b) Transform reviews into vectors using CountVectorizer."
   ]
  },
  {
   "cell_type": "code",
   "execution_count": 199,
   "id": "73c5e382",
   "metadata": {},
   "outputs": [],
   "source": [
    "# a)\n",
    "from sklearn.model_selection import train_test_split\n",
    "\n",
    "train, test = train_test_split(df, train_size=0.8, test_size=0.2)"
   ]
  },
  {
   "cell_type": "code",
   "execution_count": 200,
   "id": "306885fa",
   "metadata": {},
   "outputs": [],
   "source": [
    "# b)\n",
    "from sklearn.feature_extraction.text import CountVectorizer\n",
    "\n",
    "vectorizer = CountVectorizer()\n",
    "x_train = vectorizer.fit_transform(list(train[\"review\"]))\n",
    "x_test = vectorizer.transform(list(test[\"review\"]))"
   ]
  },
  {
   "cell_type": "markdown",
   "id": "82fce637",
   "metadata": {},
   "source": [
    "# Summary:\n",
    "After the preparations we split our data and now we want to break every sentence from reviews into vectors and for that we can use CountVectorizer."
   ]
  },
  {
   "cell_type": "markdown",
   "id": "f27ce823",
   "metadata": {},
   "source": [
    "# Exercise 3\n",
    "a) Train LogisticRegression model on training data (reviews processed with CountVectorizer, ratings as they were). \\\n",
    "b) Print 10 most positive and 10 most negative words."
   ]
  },
  {
   "cell_type": "code",
   "execution_count": 201,
   "id": "61c72682",
   "metadata": {},
   "outputs": [
    {
     "data": {
      "text/html": [
       "<style>#sk-container-id-16 {color: black;background-color: white;}#sk-container-id-16 pre{padding: 0;}#sk-container-id-16 div.sk-toggleable {background-color: white;}#sk-container-id-16 label.sk-toggleable__label {cursor: pointer;display: block;width: 100%;margin-bottom: 0;padding: 0.3em;box-sizing: border-box;text-align: center;}#sk-container-id-16 label.sk-toggleable__label-arrow:before {content: \"▸\";float: left;margin-right: 0.25em;color: #696969;}#sk-container-id-16 label.sk-toggleable__label-arrow:hover:before {color: black;}#sk-container-id-16 div.sk-estimator:hover label.sk-toggleable__label-arrow:before {color: black;}#sk-container-id-16 div.sk-toggleable__content {max-height: 0;max-width: 0;overflow: hidden;text-align: left;background-color: #f0f8ff;}#sk-container-id-16 div.sk-toggleable__content pre {margin: 0.2em;color: black;border-radius: 0.25em;background-color: #f0f8ff;}#sk-container-id-16 input.sk-toggleable__control:checked~div.sk-toggleable__content {max-height: 200px;max-width: 100%;overflow: auto;}#sk-container-id-16 input.sk-toggleable__control:checked~label.sk-toggleable__label-arrow:before {content: \"▾\";}#sk-container-id-16 div.sk-estimator input.sk-toggleable__control:checked~label.sk-toggleable__label {background-color: #d4ebff;}#sk-container-id-16 div.sk-label input.sk-toggleable__control:checked~label.sk-toggleable__label {background-color: #d4ebff;}#sk-container-id-16 input.sk-hidden--visually {border: 0;clip: rect(1px 1px 1px 1px);clip: rect(1px, 1px, 1px, 1px);height: 1px;margin: -1px;overflow: hidden;padding: 0;position: absolute;width: 1px;}#sk-container-id-16 div.sk-estimator {font-family: monospace;background-color: #f0f8ff;border: 1px dotted black;border-radius: 0.25em;box-sizing: border-box;margin-bottom: 0.5em;}#sk-container-id-16 div.sk-estimator:hover {background-color: #d4ebff;}#sk-container-id-16 div.sk-parallel-item::after {content: \"\";width: 100%;border-bottom: 1px solid gray;flex-grow: 1;}#sk-container-id-16 div.sk-label:hover label.sk-toggleable__label {background-color: #d4ebff;}#sk-container-id-16 div.sk-serial::before {content: \"\";position: absolute;border-left: 1px solid gray;box-sizing: border-box;top: 0;bottom: 0;left: 50%;z-index: 0;}#sk-container-id-16 div.sk-serial {display: flex;flex-direction: column;align-items: center;background-color: white;padding-right: 0.2em;padding-left: 0.2em;position: relative;}#sk-container-id-16 div.sk-item {position: relative;z-index: 1;}#sk-container-id-16 div.sk-parallel {display: flex;align-items: stretch;justify-content: center;background-color: white;position: relative;}#sk-container-id-16 div.sk-item::before, #sk-container-id-16 div.sk-parallel-item::before {content: \"\";position: absolute;border-left: 1px solid gray;box-sizing: border-box;top: 0;bottom: 0;left: 50%;z-index: -1;}#sk-container-id-16 div.sk-parallel-item {display: flex;flex-direction: column;z-index: 1;position: relative;background-color: white;}#sk-container-id-16 div.sk-parallel-item:first-child::after {align-self: flex-end;width: 50%;}#sk-container-id-16 div.sk-parallel-item:last-child::after {align-self: flex-start;width: 50%;}#sk-container-id-16 div.sk-parallel-item:only-child::after {width: 0;}#sk-container-id-16 div.sk-dashed-wrapped {border: 1px dashed gray;margin: 0 0.4em 0.5em 0.4em;box-sizing: border-box;padding-bottom: 0.4em;background-color: white;}#sk-container-id-16 div.sk-label label {font-family: monospace;font-weight: bold;display: inline-block;line-height: 1.2em;}#sk-container-id-16 div.sk-label-container {text-align: center;}#sk-container-id-16 div.sk-container {/* jupyter's `normalize.less` sets `[hidden] { display: none; }` but bootstrap.min.css set `[hidden] { display: none !important; }` so we also need the `!important` here to be able to override the default hidden behavior on the sphinx rendered scikit-learn.org. See: https://github.com/scikit-learn/scikit-learn/issues/21755 */display: inline-block !important;position: relative;}#sk-container-id-16 div.sk-text-repr-fallback {display: none;}</style><div id=\"sk-container-id-16\" class=\"sk-top-container\"><div class=\"sk-text-repr-fallback\"><pre>LogisticRegression(max_iter=20000)</pre><b>In a Jupyter environment, please rerun this cell to show the HTML representation or trust the notebook. <br />On GitHub, the HTML representation is unable to render, please try loading this page with nbviewer.org.</b></div><div class=\"sk-container\" hidden><div class=\"sk-item\"><div class=\"sk-estimator sk-toggleable\"><input class=\"sk-toggleable__control sk-hidden--visually\" id=\"sk-estimator-id-16\" type=\"checkbox\" checked><label for=\"sk-estimator-id-16\" class=\"sk-toggleable__label sk-toggleable__label-arrow\">LogisticRegression</label><div class=\"sk-toggleable__content\"><pre>LogisticRegression(max_iter=20000)</pre></div></div></div></div></div>"
      ],
      "text/plain": [
       "LogisticRegression(max_iter=20000)"
      ]
     },
     "execution_count": 201,
     "metadata": {},
     "output_type": "execute_result"
    }
   ],
   "source": [
    "#a)\n",
    "y_train = train[\"sentiment\"]\n",
    "\n",
    "model = LogisticRegression(solver='lbfgs', max_iter=20000)\n",
    "model_count = model.fit(x_train, y_train)\n",
    "model_count"
   ]
  },
  {
   "cell_type": "code",
   "execution_count": 202,
   "id": "f84cff70",
   "metadata": {},
   "outputs": [
    {
     "name": "stdout",
     "output_type": "stream",
     "text": [
      "Most positive words: dismiss, refreshing, complaint, wonderfully, hooked, canceled, fez, finest, gem, ideal, \n",
      "\n",
      "Most negative words: worst, waste, uninteresting, awful, disappointment, fails, forgettable, mstk, poorly, lacks, \n",
      "\n"
     ]
    }
   ],
   "source": [
    "#b)\n",
    "# Get the indices of the sorted cofficients\n",
    "ascending = np.argsort(model.coef_.flatten()) \n",
    "descending = ascending[::-1]\n",
    "\n",
    "vocab = np.array(vectorizer.get_feature_names_out())\n",
    "\n",
    "# Print most positive words\n",
    "print(\"Most positive words: \", end=\"\")\n",
    "for i in range(10):\n",
    "    print(vocab[descending[i]], end=\", \")\n",
    "print(\"\\n\")\n",
    "\n",
    "# Print most negative words\n",
    "print(\"Most negative words: \", end=\"\")\n",
    "for i in range(10):\n",
    "    print(vocab[ascending[i]], end=\", \")\n",
    "print(\"\\n\")"
   ]
  },
  {
   "cell_type": "markdown",
   "id": "3bbf0562",
   "metadata": {},
   "source": [
    "# Summary:\n",
    "We repeat excercises from basic assignment 4 but this time with dataset of my choice. \\\n",
    "In this particular excercise we are interpreting the coefficients of a logistic regression fit on the movies rating. \\\n",
    "descending[0] contains the index of the largest coefficient \\\n",
    "vocab[descending[0]] contains the word corresponding to the largest coefficient"
   ]
  },
  {
   "cell_type": "markdown",
   "id": "ff5a72d5",
   "metadata": {},
   "source": [
    "# Exercise 4\n",
    "a) Predict the sentiment of test data reviews. \\\n",
    "b) Predict the sentiment of test data reviews in terms of probability. \\\n",
    "c) Find five most positive and most negative reviews. \\\n",
    "d) Calculate the accuracy of predictions."
   ]
  },
  {
   "cell_type": "code",
   "execution_count": 203,
   "id": "aab3541b",
   "metadata": {},
   "outputs": [
    {
     "data": {
      "text/plain": [
       "array([-1,  1,  1, ...,  1,  1, -1], dtype=int64)"
      ]
     },
     "execution_count": 203,
     "metadata": {},
     "output_type": "execute_result"
    }
   ],
   "source": [
    "# a)\n",
    "model.predict(x_test)"
   ]
  },
  {
   "cell_type": "code",
   "execution_count": 204,
   "id": "1dd9c054",
   "metadata": {},
   "outputs": [
    {
     "name": "stdout",
     "output_type": "stream",
     "text": [
      "[[9.93428024e-01 6.57197562e-03]\n",
      " [1.88533442e-01 8.11466558e-01]\n",
      " [8.41994016e-03 9.91580060e-01]\n",
      " ...\n",
      " [1.77635684e-15 1.00000000e+00]\n",
      " [1.01171605e-02 9.89882839e-01]\n",
      " [9.99689262e-01 3.10738106e-04]]\n"
     ]
    }
   ],
   "source": [
    "# b)\n",
    "pred = model.predict_proba(x_test)\n",
    "print(pred)"
   ]
  },
  {
   "cell_type": "code",
   "execution_count": 205,
   "id": "772b67ea",
   "metadata": {},
   "outputs": [
    {
     "name": "stdout",
     "output_type": "stream",
     "text": [
      "Five most positive reviews: \n",
      "1 )\n",
      "I wish kids movies were still made this way dark and deep There was get this character development and Charlie is the epitome of the dynamic character plot development superb animation emotional involvement and a rational relatable and consistent theme If not for the handful of songanddance routines you would never have thought this was a kids movie and this is why I give it such a high rating This movie is an excellent film let alone for a kids movie Which brings me to my second point this has got to be the darkest kids movie Ive seen in quite some time this coming from a yearold Id be shocked to see any child under the age of  not completely terrified throughout a great deal of the latter half and some of the first half of the movie and it all ends with one of the saddest endings you could ever come across ala Jurassic Bark for those of you who are Futurama fans and this is what makes this movie so good Just because the movie universally evokes emotions we dont normally like to feel and assume are bad does not make the movie itself bad in fact it means it succeeded Good funny movies are supposed to make us laugh good horror movies are supposed to make us scared good sad movies are supposed to make us sad My point is good movies are supposed to MOVE you not simply entertain this movie moved meAlso this movie is incredibly violent by todays standards for a kids movie and contains subject matter that by todays standards may not be suitable for some children Parents Id say watch it first Im not usually one to say anything about this kind of thing but I just saw this yesterday and it came as a surprise even to me\n",
      "2 )\n",
      "A group of seven people fear they are the only survivors of a near world ending Hbomb blast Not only do they fear the radiation but also mutants in the surrounding hillside One of the group is already contaminated but strangely poses no real threat to the others Just surviving the friction of assorted personalities at close range is the subplot Richard Denning plays the hero Mike Connors is close to the edge playing a tough guy Lori Nelson is the girl destined to start populating a brave new world Not one of director Roger Cormans best This is predictable black and white scifi\n",
      "3 )\n",
      "When two writers make a screenplay of a horror version of Breakfast At Tiffanys you know something is going to go right Drew Barrymore Patrick Highsmith Leslie Hope and Sally Kellerman are excellent actors The FBI agent was a terrible actor The scenes where Patrick looked Holly up and down like some sort of objectifier those was just weird Drew Barrymore is very hot Intimate Strangers where Sally Kellerman worked was a great part The weird gummy worm was just weird Nathan was a very handsome cat But what was that scene where Patrick followed Holly into a cesspool and Mr Gooding attacked him And the scene with Dr Wallace What was he doing fumbling around in there And not every male has a female as Sally Kellerman stated And when Patrick and Elizabeth saw Drew outside of Victors that was weird\n",
      "4 )\n",
      "The genre of suspense films really takes a dive in this one The big problem is IMPLAUSABILITY I realize that you need to create difficult situations which would cause suspense and the tense feeling of whats going to happen next but this movie was so predictable and is just not believable I find that the more I watch this kind of movie the more I am continually saying things to actors to direct them away from danger Continually making bad decisions just borders on being plain stupid If they took the time to make it more realistic I might have enjoyed it a little Having said that you might be better off staying away from this one\n",
      "5 )\n",
      "Well i expected for all the hype and Oscar nominations an epic Civil war drama  something with the magnitude of the English Patient given the same director This film isnt of epic stature but it turns out i was relieved it wasnt Its a love story in the midst of the horrors of war where young men are sent off to fight deserters are tracked and killed and the women and children at home are left to fend for themselves while the men are goneAnyway i thought Nicole Kidman and Rene Zelleweger were pretty decent and not knowing much about Jude Law he was all right also It seems Rene Z had the more fun part of the  leads and was able to smartly play a spirited feisty downhome woman with much aplomb Also for me it was good to see actress Kathy Bakersomeones whos talent needs to be more recognizedacknowledgedThis film is worth seeing this  im cant articulate why really but maybe because it is a slice of Americana \n",
      "\n",
      "\n",
      "Five most negative reviews: \n",
      "1 )\n",
      "While I am not a woman I can enjoy a chick flick if its good This one however is beyond bad You have the by the book story girl is getting divorced boy with issues shows up BOOM magic happens and his demons are banished as she realizes her life has a new purposeNow while I can believe that kind of thing might happen I am not an idiot It wouldnt happen over a weekend of geriatric rumpypumpy it would take time Yet here the producers know they only have  hour and  minutes so they force the changes of the two to happen I suppose a night of getting hammered and a night of gramps and granny going at it like dogs in heat might be enough if you believed romance novels were the gospel but most people dontNow if that isnt enough the producers remembered that a chick flick needs to make the viewer cry well they tried to make you cry with the two senior citizens getting jiggy with it by failed so how could they hit you again Why I know lets kill off one of the characters for no good reason at all except that a random death will surely bring a tear to the eye and now lets have the teen daughter magically bond with heart broken mom for no reason besides the fact that it would be nice completely unreal but who caresSo there you have it girl find boy boy find love death finds boy and mom cries what a movie  NOT\n",
      "2 )\n",
      "VHS  I have watched this over and over and LOVED every minute of it so much so I have now ordered the DVD I only wished the film could have lasted longer I never worry about what other people think I prefer to make my own mind up and entirely disagree with the negative comments and will not let others spoil my enjoyment of the film whatsoever Make up your own mind and dont let others put you off I have all Jane Austens BBC series but this is my FAVOURITE I see there is to be a NEW Northanger Abbey released in  which I will buy when it comes out but it will not stop me watching Northanger Abbey released in the s\n",
      "3 )\n",
      "This movie has a very Broadway feel  the backdrop the acting the noise and yet thats all it has Some sense of a Broadway without the bang The movie is slowpaced the picture disjointed the singing pops up on you so that you suddenly are reminded its a musical Disappointing Sinatra Intolerable Sinatras fiancésurely the pitch and the accent of her voice was unnecessary Tolerable Mr i remember the numbers on my dice Delight Brandos understated singing very biasedSurprise how much Jean Simmons looks like Vivien Leigh in her Havana scenes Its the bone structure How i wouldve killed to have seen Miss Leigh in a role challenging Brando again\n",
      "4 )\n",
      "Remember a film you seemed to enjoy in the past that doesnt quite meet those same feelings as an adult That occurred to me when I went back to schoolthe National Lampoons Class Reunion The film has a perfect opportunity for laughs but surprisingly wanders aimlessly as we see a bizarre collection of characters such a woman who sold her soul to the devil and can shoot out flames of fire from her mouth a man who appears to be a vampire and a lunatic killer dressed as a woman and wears sacks over his head You have the class president who believes hes the best thing since sliced breadbut as we see in the film hes a coward and joke a couple of pot smokers who dont even know they are at their own class reunion and a man named Gary for whom know one even knew existedand no one can seem to remember his namethis is the one running joke I enjoyed There is a plump pervert who likes to grab women in inappropriate places a deaf and blind woman who has a screeching holler when calling for her dog and the cookyou know her from goonies and Throw Mama From The Trainwho loves to place food on peoples plates with her hands The film is essentially about a nutcase who isor at least attempting totaking revenge on his classmates for a gag they pulled on himthey arranged for him to sleep with his own twin sister The film follows the characters as they search for the killer canvasing darkened trashed hallways of the old high school They were told of the killer by his psychologist who seems a bit odd himself The film has a few good gags that workpretty much early on but the film slowly gets worse each passing minute The films true problem is that it really doesnt know where to go The film is pretty much a onejoke premise for it has unassured directionif it really has any direction at all The cast is enthusiastic enough but the material they are to make funny just doesnt have the quality to hold any interest Its a curio for fans of early s comedy relics that are forgottenthis one rightfully so\n",
      "5 )\n"
     ]
    },
    {
     "name": "stdout",
     "output_type": "stream",
     "text": [
      "This movie is a shouldbe classic Its not perfect certainly The pacing while perfect for the stage is in movie form slow as a tortoise with arthritic knees Jean Seberg is misdirected to be too sweet and too gentle She fully shows enough acting talent skill and craft to convincingly play the clever passionate and confident Joan but unfortunately the director missed the point of the character George Bernard Shaw is my favorite playwright In no other play has his dialog been more sharp nor the lines more musical However processing this film requires that you look at it as a lawyer This movie is a case and the viewer is the judge That is how this picture is to be enjoyed \n"
     ]
    }
   ],
   "source": [
    "# c) Find five most positive and most negative reviews.\n",
    "ascendingproba = np.argsort(pred[:,[0]].flatten()) \n",
    "\n",
    "#     Positive reviews\n",
    "print(\"Five most positive reviews: \")\n",
    "for i in range (5):\n",
    "    print(i+1, \")\")\n",
    "    print(list(train[\"review\"])[ascendingproba[i]])\n",
    "\n",
    "print()\n",
    "print()\n",
    "print(\"Five most negative reviews: \")\n",
    "#     Negative reviews\n",
    "descendingproba = ascendingproba[::-1]\n",
    "for i in range (5):\n",
    "    print(i+1, \")\")\n",
    "    print(list(train[\"review\"])[descendingproba[i]])"
   ]
  },
  {
   "cell_type": "code",
   "execution_count": 206,
   "id": "5c2cacd4",
   "metadata": {},
   "outputs": [
    {
     "data": {
      "text/plain": [
       "0.8906"
      ]
     },
     "execution_count": 206,
     "metadata": {},
     "output_type": "execute_result"
    }
   ],
   "source": [
    "# d) Calculate the accuracy of predictions.\n",
    "y_test = test[\"sentiment\"]\n",
    "model.score(x_test, y_test)"
   ]
  },
  {
   "cell_type": "markdown",
   "id": "679cc780",
   "metadata": {},
   "source": [
    "# Exercise 5\n",
    "In this exercise we will limit the dictionary of CountVectorizer to the set of significant words, defined below.\n",
    "\n",
    "a) Redo exercises 2-5 using limited dictionary.\n",
    "b) Check the impact of all the words from the dictionary.\n",
    "c) Compare accuracy of predictions and the time of evaluation."
   ]
  },
  {
   "cell_type": "code",
   "execution_count": 207,
   "id": "0103b228",
   "metadata": {},
   "outputs": [
    {
     "data": {
      "text/html": [
       "<style>#sk-container-id-17 {color: black;background-color: white;}#sk-container-id-17 pre{padding: 0;}#sk-container-id-17 div.sk-toggleable {background-color: white;}#sk-container-id-17 label.sk-toggleable__label {cursor: pointer;display: block;width: 100%;margin-bottom: 0;padding: 0.3em;box-sizing: border-box;text-align: center;}#sk-container-id-17 label.sk-toggleable__label-arrow:before {content: \"▸\";float: left;margin-right: 0.25em;color: #696969;}#sk-container-id-17 label.sk-toggleable__label-arrow:hover:before {color: black;}#sk-container-id-17 div.sk-estimator:hover label.sk-toggleable__label-arrow:before {color: black;}#sk-container-id-17 div.sk-toggleable__content {max-height: 0;max-width: 0;overflow: hidden;text-align: left;background-color: #f0f8ff;}#sk-container-id-17 div.sk-toggleable__content pre {margin: 0.2em;color: black;border-radius: 0.25em;background-color: #f0f8ff;}#sk-container-id-17 input.sk-toggleable__control:checked~div.sk-toggleable__content {max-height: 200px;max-width: 100%;overflow: auto;}#sk-container-id-17 input.sk-toggleable__control:checked~label.sk-toggleable__label-arrow:before {content: \"▾\";}#sk-container-id-17 div.sk-estimator input.sk-toggleable__control:checked~label.sk-toggleable__label {background-color: #d4ebff;}#sk-container-id-17 div.sk-label input.sk-toggleable__control:checked~label.sk-toggleable__label {background-color: #d4ebff;}#sk-container-id-17 input.sk-hidden--visually {border: 0;clip: rect(1px 1px 1px 1px);clip: rect(1px, 1px, 1px, 1px);height: 1px;margin: -1px;overflow: hidden;padding: 0;position: absolute;width: 1px;}#sk-container-id-17 div.sk-estimator {font-family: monospace;background-color: #f0f8ff;border: 1px dotted black;border-radius: 0.25em;box-sizing: border-box;margin-bottom: 0.5em;}#sk-container-id-17 div.sk-estimator:hover {background-color: #d4ebff;}#sk-container-id-17 div.sk-parallel-item::after {content: \"\";width: 100%;border-bottom: 1px solid gray;flex-grow: 1;}#sk-container-id-17 div.sk-label:hover label.sk-toggleable__label {background-color: #d4ebff;}#sk-container-id-17 div.sk-serial::before {content: \"\";position: absolute;border-left: 1px solid gray;box-sizing: border-box;top: 0;bottom: 0;left: 50%;z-index: 0;}#sk-container-id-17 div.sk-serial {display: flex;flex-direction: column;align-items: center;background-color: white;padding-right: 0.2em;padding-left: 0.2em;position: relative;}#sk-container-id-17 div.sk-item {position: relative;z-index: 1;}#sk-container-id-17 div.sk-parallel {display: flex;align-items: stretch;justify-content: center;background-color: white;position: relative;}#sk-container-id-17 div.sk-item::before, #sk-container-id-17 div.sk-parallel-item::before {content: \"\";position: absolute;border-left: 1px solid gray;box-sizing: border-box;top: 0;bottom: 0;left: 50%;z-index: -1;}#sk-container-id-17 div.sk-parallel-item {display: flex;flex-direction: column;z-index: 1;position: relative;background-color: white;}#sk-container-id-17 div.sk-parallel-item:first-child::after {align-self: flex-end;width: 50%;}#sk-container-id-17 div.sk-parallel-item:last-child::after {align-self: flex-start;width: 50%;}#sk-container-id-17 div.sk-parallel-item:only-child::after {width: 0;}#sk-container-id-17 div.sk-dashed-wrapped {border: 1px dashed gray;margin: 0 0.4em 0.5em 0.4em;box-sizing: border-box;padding-bottom: 0.4em;background-color: white;}#sk-container-id-17 div.sk-label label {font-family: monospace;font-weight: bold;display: inline-block;line-height: 1.2em;}#sk-container-id-17 div.sk-label-container {text-align: center;}#sk-container-id-17 div.sk-container {/* jupyter's `normalize.less` sets `[hidden] { display: none; }` but bootstrap.min.css set `[hidden] { display: none !important; }` so we also need the `!important` here to be able to override the default hidden behavior on the sphinx rendered scikit-learn.org. See: https://github.com/scikit-learn/scikit-learn/issues/21755 */display: inline-block !important;position: relative;}#sk-container-id-17 div.sk-text-repr-fallback {display: none;}</style><div id=\"sk-container-id-17\" class=\"sk-top-container\"><div class=\"sk-text-repr-fallback\"><pre>LogisticRegression(max_iter=20000)</pre><b>In a Jupyter environment, please rerun this cell to show the HTML representation or trust the notebook. <br />On GitHub, the HTML representation is unable to render, please try loading this page with nbviewer.org.</b></div><div class=\"sk-container\" hidden><div class=\"sk-item\"><div class=\"sk-estimator sk-toggleable\"><input class=\"sk-toggleable__control sk-hidden--visually\" id=\"sk-estimator-id-17\" type=\"checkbox\" checked><label for=\"sk-estimator-id-17\" class=\"sk-toggleable__label sk-toggleable__label-arrow\">LogisticRegression</label><div class=\"sk-toggleable__content\"><pre>LogisticRegression(max_iter=20000)</pre></div></div></div></div></div>"
      ],
      "text/plain": [
       "LogisticRegression(max_iter=20000)"
      ]
     },
     "execution_count": 207,
     "metadata": {},
     "output_type": "execute_result"
    }
   ],
   "source": [
    "# 5a)\n",
    "words = [\"refreshing\",\"finest\", \"disappoint\", \"perfect\", \"excellent\", \"penny\", \"funniest\", \"superb\", \"wonderfully\", \"waste\", \"disappointment\", \"worst\", \"forgettable\", \"mstk\", \"awful\", \"wasting\", \"boring\", \"poorly\", \"fails\",\"erotic\"]\n",
    "\n",
    "# Excercise 2\n",
    "# Transform reviews into vectors using CountVectorizer. We limiting dictionary of CountVectorizer\n",
    "vectorizer_dict = CountVectorizer(vocabulary=words)\n",
    "x_train_dict = vectorizer_dict.fit_transform(list(train[\"review\"]))\n",
    "x_test_dict = vectorizer_dict.transform(list(test[\"review\"]))\n",
    "\n",
    "# Excercise 3\n",
    "# Train LogisticRegression model on training data\n",
    "y_train_dict = train[\"sentiment\"]\n",
    "model_dict = LogisticRegression(solver='lbfgs', max_iter=20000)\n",
    "model_dict.fit(x_train_dict, y_train_dict)"
   ]
  },
  {
   "cell_type": "code",
   "execution_count": 208,
   "id": "1aa33272",
   "metadata": {},
   "outputs": [
    {
     "name": "stdout",
     "output_type": "stream",
     "text": [
      "Most positive words: wonderfully, refreshing, superb, finest, excellent, perfect, disappoint, funniest, erotic, penny, \n",
      "\n",
      "Most negative words: waste, worst, wasting, poorly, mstk, awful, forgettable, fails, boring, disappointment, \n",
      "\n"
     ]
    }
   ],
   "source": [
    "# Print 10 most positive and 10 most negative words\n",
    "\n",
    "# Get the indices of the sorted cofficients\n",
    "ascending_d = np.argsort(model_dict.coef_.flatten()) \n",
    "descending_d = ascending_d[::-1]\n",
    "\n",
    "vocab_dict = np.array(vectorizer_dict.get_feature_names_out())\n",
    "\n",
    "# Print most positive words\n",
    "print(\"Most positive words: \", end=\"\")\n",
    "for i in range(10):\n",
    "    print(vocab_dict[descending_d[i]], end=\", \")\n",
    "print(\"\\n\")\n",
    "\n",
    "# Print most negative words\n",
    "print(\"Most negative words: \", end=\"\")\n",
    "for i in range(10):\n",
    "    print(vocab_dict[ascending_d[i]], end=\", \")\n",
    "print(\"\\n\")"
   ]
  },
  {
   "cell_type": "code",
   "execution_count": 209,
   "id": "298876ce",
   "metadata": {},
   "outputs": [
    {
     "data": {
      "text/plain": [
       "array([-1,  1,  1, ...,  1,  1,  1], dtype=int64)"
      ]
     },
     "execution_count": 209,
     "metadata": {},
     "output_type": "execute_result"
    }
   ],
   "source": [
    "# Excercise 4\n",
    "#  Predict the sentiment of test data reviews\n",
    "model_dict.predict(x_test_dict)"
   ]
  },
  {
   "cell_type": "code",
   "execution_count": 210,
   "id": "142c31a8",
   "metadata": {},
   "outputs": [
    {
     "name": "stdout",
     "output_type": "stream",
     "text": [
      "[[0.94847581 0.05152419]\n",
      " [0.4350818  0.5649182 ]\n",
      " [0.18385539 0.81614461]\n",
      " ...\n",
      " [0.01698343 0.98301657]\n",
      " [0.4350818  0.5649182 ]\n",
      " [0.4350818  0.5649182 ]]\n"
     ]
    }
   ],
   "source": [
    "# Predict the sentiment of test data reviews in terms of probability\n",
    "pred_d = model_dict.predict_proba(x_test_dict)\n",
    "print(pred_d)"
   ]
  },
  {
   "cell_type": "code",
   "execution_count": 211,
   "id": "7504abd7",
   "metadata": {},
   "outputs": [
    {
     "name": "stdout",
     "output_type": "stream",
     "text": [
      "Five most positive reviews: \n",
      "1 ) \n",
      "I wish kids movies were still made this way dark and deep There was get this character development and Charlie is the epitome of the dynamic character plot development superb animation emotional involvement and a rational relatable and consistent theme If not for the handful of songanddance routines you would never have thought this was a kids movie and this is why I give it such a high rating This movie is an excellent film let alone for a kids movie Which brings me to my second point this has got to be the darkest kids movie Ive seen in quite some time this coming from a yearold Id be shocked to see any child under the age of  not completely terrified throughout a great deal of the latter half and some of the first half of the movie and it all ends with one of the saddest endings you could ever come across ala Jurassic Bark for those of you who are Futurama fans and this is what makes this movie so good Just because the movie universally evokes emotions we dont normally like to feel and assume are bad does not make the movie itself bad in fact it means it succeeded Good funny movies are supposed to make us laugh good horror movies are supposed to make us scared good sad movies are supposed to make us sad My point is good movies are supposed to MOVE you not simply entertain this movie moved meAlso this movie is incredibly violent by todays standards for a kids movie and contains subject matter that by todays standards may not be suitable for some children Parents Id say watch it first Im not usually one to say anything about this kind of thing but I just saw this yesterday and it came as a surprise even to me\n",
      "2 ) \n",
      "Sorry  this movie is just a cheap TVProduction I saw very much promotion Material and expect a professionell Movie like Stormriders  what i was presented was a LowBudgetMovie like XENA or Hercules on TV No Atmosphere very boring more then worse FightScenes Some good ideas  not more I hope i will get the Chance to make a movie like this and then i show how to do such a movieMy ASIANTips MUSA  THE WARRIOR STORMRIDERS SHAOLIN SOCCER BATTLE ROYAL VERSUS etcSorry for my bad English\n",
      "3 ) \n",
      "Thats not the sound of bees thats the effect induced by watching this extremely long extremely boring badly acted movie How I ever made it through all   hours without falling asleep Ill never know The plot is simple thoroughly unlikable morons talk about sex for   hours And you thought Rohmer was deadly This is even worse if thats possible  I must really be a masochist if I could watch this entire movie without turning it offor killing someone\n",
      "4 ) \n",
      "When two writers make a screenplay of a horror version of Breakfast At Tiffanys you know something is going to go right Drew Barrymore Patrick Highsmith Leslie Hope and Sally Kellerman are excellent actors The FBI agent was a terrible actor The scenes where Patrick looked Holly up and down like some sort of objectifier those was just weird Drew Barrymore is very hot Intimate Strangers where Sally Kellerman worked was a great part The weird gummy worm was just weird Nathan was a very handsome cat But what was that scene where Patrick followed Holly into a cesspool and Mr Gooding attacked him And the scene with Dr Wallace What was he doing fumbling around in there And not every male has a female as Sally Kellerman stated And when Patrick and Elizabeth saw Drew outside of Victors that was weird\n",
      "5 ) \n",
      "I think Dark Angel is great First season was excellent and had a good plot With MaxJessica Alba as an escaped X manticore creation trying to adapt to a normal life but still saving the world And being hunted by manticore throughout the season which gives the series some extra spiceThe second season though suddenly became a bit odd compared to the first The plot kinda disappeared and the series lost a little of its charm mostly because of all the weird creatures appearing Dont get me wrong the second season is good but with a little bit to much of the manticores However they managed to get back to a new promising plot in the closing episodes of season  in which I had a lot of hopes to see more ofSo I really wish they could start making new episodes And with James Cameron behind this it cant go wrong So as a conclusion I would say its a great series however Im still hoping for a third season\n",
      "\n",
      "Five most negative reviews: \n",
      "1 )\n",
      "Moonwalker is a Fantasy Music film staring Michael Jackson with different segments I will rate each segment individuallySegment  opens the film with a Music video The Music video is a concert of Michael Jackson performing the song Man in the Mirror the Music video also shows montages of historical figures such as Gandhi Martin Luther king JR John Lennon and more The first segment was a good choice to open the film i liked the song and also loved the montage of the historical figures I even loved the message in the song I give the first segment a Segment  shows a montage of Michael Jacksons start from the Jackson five to his solo career The montage i thought was well made i liked the animation they put into it and i also loved their choices of songs such as I I want you back Beat it Thriller can you feel it and the way you make me feel The only thing i wish they could have done a little a better in one of the songs in the montage is We are the world The reason why is all you see is rain drops and in those drops are images of Michael Jackson and the chorus of the celebrities but its a little hard to see the chorus Other than that the segment is still good I give it a Segment  is the song Bad Youre probably thinking its Michael Jacksons Music video of badWell yes and no This segment is the Music video but its redone by Kids The segment was cute but it wasnt as good as the other segments I give it a Segment  is a short Claymation Music film that takes place after the kids version of bad called Speed Demon The short is about Michael Jackson being chased by his beloved fans and the press and he disguises himself as a rabbit and rides a motorcycle to try to get away from them The claymation in the chase sequence was great but some parts in the film the Claymation characters looked a little fake when they interact with real people Also at the end of the clip out of nowhere Michael Jackson rabbit costume comes to life and hes dancing with it I liked the dancing but that was like out of nowhere I give it a Segment  is Michael Jacksons Grammy winning Music video Leave me alone The Music Video is about the media poking their nose at Michael Jacksons personal life and Michael Jackson feels they wont leave him alone no matter how much hes proved innocent The music video really speaks out but keep in mind this happened before the child molestation this just all about the rumors of him in the s but i didnt feel this Video should be in this Movie because its a kids Movie and i dont think kids will understand what hes singing about I give this Music video Segment  leads us to the main story of the whole movie called Smooth Criminal Michael Jackson plays a gangster who uses his powers of a wishing star as a crime figure to protect children  including John Lennons son Sean Lennon from an Evil Mobster named Mr Bigg Played by Joe Pesci The segment i thought really brought out the film especially when he danced and sang the song Smooth Criminal with a bunch of Criminals I also thought the special effects were good The weird thing about the Segment is why are kids hanging out with a grown man it never explained why Also Joe Pesci character talks about Drugs and what he plans to do with them I mean why would you talk about drugs in a kids film Other wise it was good My rating for this segment is a Segment  is the final segment of the whole movie The film ends with Michael Jackson singing a Cover version of the Beatles Song Come Together and then during the credits we see Michael Jackson singing with Ladysmith Black Mambazo Michael did a good cover of Come Together and i think it was good idea putting including a group of good singers with a talented musican like him My rating is This movie is a good Michael Jackson film i think it really brings out children s Imagination The film is almost as Imaginative as the Beatles animated movie Yellow Submarine if you like Michael Jackson and youre up to a film with a lot of creativity this is the film My Overall rating for this movie is \n",
      "2 )\n"
     ]
    },
    {
     "name": "stdout",
     "output_type": "stream",
     "text": [
      "The Hand of Death aka Countdown in Kung Fu  is a vastly underrated early work by director John Woo The film stars Dorian Tan Tan Taoliang and features Jackie Chan Sammo Hung and James Tien in significant supporting roles Many people believe or have been lead to believe by deceptive advertising that this is a Jackie Chan film This is not a Jackie Chan film Dorian Tan is the star but Jackie gives one of his best most serious early performancesThe Hand of Death is about a Shaolin disciple named Yunfei Tan who is sent on a mission to assassinate a Shaolin traitor named Shih Xiaofeng Tien and protect a revolutionary named Zhang Yi Woo Along his journey Yunfei meets up with a young woodcutter named Tan Chan and a disgraced sword fighter Chang Chung known as the wanderer Both men have suffered at the hands of Shih and want to take revenge The three team up to defeat Shih and his eight bodyguards and escort the revolutionary to safetyThe martial arts action is above average under the direction of Sammo Hung Dorian Tan uses his trademark high kicks very effectively as the Northern eighteen styles kicks along with some Southern five styles boxing Sammo Hung and Jackie Chan provide excellent martial arts performances as well James Tien is not the greatest martial artist on the Jade screen but does an acceptable job Some of the early fights are a bit slow and seem over choreographed but the final showdowns featuring Chan Tan and Hung are very goodDirector John Woo provides plenty of interesting character development in the film which is refreshing The cinematography by Leung Wing Kat is very stylish unique and beautiful for a kung fu film of this era Joseph Koos music a combination of soft flutes and s Shaft style orchestral pieces is kung fu cinema at its best Hand of Death is not Jackie and Sammos usual kung fu comedy Hand of Death is a serious straightforward revenge driven storyHand of Death aka Countdown in Kung Fu is an underrated classic in the old school kung fu genre The film is one of the best artistically of its time and a preview of the great things to come from Jackie Chan and Sammo Hung Hungs great choreography is put on display here before his directorial debut and Chans early charisma and talent can be clearly seenHand of Death is a solid stylish old school kung fu film and a brilliant early work of the legendary John WooKung Fu Genre Rating  Wanderer to Tan referring to his new weapon The Little Eagle Wing God Lance Tan Just a knickknack\n",
      "3 )\n",
      "Remember a film you seemed to enjoy in the past that doesnt quite meet those same feelings as an adult That occurred to me when I went back to schoolthe National Lampoons Class Reunion The film has a perfect opportunity for laughs but surprisingly wanders aimlessly as we see a bizarre collection of characters such a woman who sold her soul to the devil and can shoot out flames of fire from her mouth a man who appears to be a vampire and a lunatic killer dressed as a woman and wears sacks over his head You have the class president who believes hes the best thing since sliced breadbut as we see in the film hes a coward and joke a couple of pot smokers who dont even know they are at their own class reunion and a man named Gary for whom know one even knew existedand no one can seem to remember his namethis is the one running joke I enjoyed There is a plump pervert who likes to grab women in inappropriate places a deaf and blind woman who has a screeching holler when calling for her dog and the cookyou know her from goonies and Throw Mama From The Trainwho loves to place food on peoples plates with her hands The film is essentially about a nutcase who isor at least attempting totaking revenge on his classmates for a gag they pulled on himthey arranged for him to sleep with his own twin sister The film follows the characters as they search for the killer canvasing darkened trashed hallways of the old high school They were told of the killer by his psychologist who seems a bit odd himself The film has a few good gags that workpretty much early on but the film slowly gets worse each passing minute The films true problem is that it really doesnt know where to go The film is pretty much a onejoke premise for it has unassured directionif it really has any direction at all The cast is enthusiastic enough but the material they are to make funny just doesnt have the quality to hold any interest Its a curio for fans of early s comedy relics that are forgottenthis one rightfully so\n",
      "4 )\n",
      "This started out as a good sketch comedy The first few shows were very good and I was looking forward to a long run What was really funny was the Mariah Carey imitation and the take off on Beverly Hills  featuring the hair fight The Delta Burke vs William Conrad heavy weight battle was also good Unfortunately the following shows went downhill relatively quickly The writing became uninspired and oh so predictable as if the show had acquired a cult following in its young tenure Nothing fresh was being offered and the recurring skits were boring One example is the gun family or whatever it was called which became a weekly feature This sketch was not all that funny to begin with let alone being a regular feature An example of a quick promising start then a sudden fall\n",
      "5 )\n",
      "A Girls Folly is a sort of halfcomedy halfmockumentary look at the motion picture business of the mids We get a glimpse of life at an early movie studio where we experience assembly of a set running through a scene handling of adoring movie fanatics even lunch at the commissary We are also privy to little known cinematic facts  for example did you know that Frequently movie actors do not know the plot of the picture in which they are workingThe plot of this film in essence is movie star Kenneth Driscolls discovery and romancing of a budding young starlet whom he discovers while shooting on location in the country I believe the minute version I watched was abridged included on the same tape with Cecil B De Milles The Cheat It is a very credible film  an easy watch with a large cast of extras As a bonus it includes some of bestillustrated captions I have ever seen accompanying a silent movie\n"
     ]
    }
   ],
   "source": [
    "# Find five most positive and most negative reviews.\n",
    "ascendingproba_d = np.argsort(pred_d[:,[0]].flatten()) \n",
    "\n",
    "print(\"Five most positive reviews: \")\n",
    "for i in range (5):\n",
    "    print(i+1, \") \")\n",
    "    print(list(train[\"review\"])[ascendingproba_d[i]])\n",
    "\n",
    "print()\n",
    "print(\"Five most negative reviews: \")\n",
    "descendingproba_d = ascendingproba_d[::-1]\n",
    "for i in range (5):\n",
    "    print(i+1, \")\")\n",
    "    print(list(train[\"review\"])[descendingproba_d[i]])"
   ]
  },
  {
   "cell_type": "code",
   "execution_count": 212,
   "id": "278c60cd",
   "metadata": {},
   "outputs": [
    {
     "data": {
      "text/plain": [
       "0.6806"
      ]
     },
     "execution_count": 212,
     "metadata": {},
     "output_type": "execute_result"
    }
   ],
   "source": [
    "# Calculate the accuracy of predictions.\n",
    "y_test_dict = test[\"sentiment\"]\n",
    "model_dict.score(x_test_dict, y_test_dict)"
   ]
  },
  {
   "cell_type": "code",
   "execution_count": 213,
   "id": "02e8c491",
   "metadata": {},
   "outputs": [
    {
     "name": "stdout",
     "output_type": "stream",
     "text": [
      "refreshing: 1.6957235239850292\n",
      "finest: 1.3757560182073791\n",
      "disappoint: 0.9445725634590569\n",
      "perfect: 1.069735427699011\n",
      "excellent: 1.2292951877737734\n",
      "penny: 0.1304692249265249\n",
      "funniest: 0.8288850657732735\n",
      "superb: 1.4695314068800638\n",
      "wonderfully: 1.9627909187494044\n",
      "waste: -2.334559930009983\n",
      "disappointment: -1.2021198673266753\n",
      "worst: -2.091151387050206\n",
      "forgettable: -1.6155930868393136\n",
      "mstk: -2.0445176621391643\n",
      "awful: -1.9493935403324574\n",
      "wasting: -2.055662371426848\n",
      "boring: -1.22455811686155\n",
      "poorly: -2.0535506909180907\n",
      "fails: -1.3846281167693786\n",
      "erotic: 0.15606597273332767\n"
     ]
    }
   ],
   "source": [
    "# b) Check the impact of all the words from the dictionary.\n",
    "# print (model_dict.coef_)\n",
    "for i in range (len(words)):\n",
    "    print(words[i], end=\": \")\n",
    "    print(model_dict.coef_.flatten()[i])"
   ]
  },
  {
   "cell_type": "code",
   "execution_count": 214,
   "id": "6a2e2b4d",
   "metadata": {},
   "outputs": [],
   "source": [
    "#c) Compare accuracy of predictions and the time of evaluation.\n",
    "import sys, time"
   ]
  },
  {
   "cell_type": "code",
   "execution_count": 215,
   "id": "cb1510e4",
   "metadata": {},
   "outputs": [
    {
     "name": "stdout",
     "output_type": "stream",
     "text": [
      "1.49 ms ± 6.26 µs per loop (mean ± std. dev. of 7 runs, 1,000 loops each)\n"
     ]
    }
   ],
   "source": [
    "%timeit model_dict.score(x_test_dict, y_test_dict)"
   ]
  },
  {
   "cell_type": "code",
   "execution_count": 216,
   "id": "fa60c011",
   "metadata": {},
   "outputs": [
    {
     "name": "stdout",
     "output_type": "stream",
     "text": [
      "CPU times: total: 31.2 ms\n",
      "Wall time: 4.98 ms\n"
     ]
    },
    {
     "data": {
      "text/plain": [
       "0.6806"
      ]
     },
     "execution_count": 216,
     "metadata": {},
     "output_type": "execute_result"
    }
   ],
   "source": [
    "%time model_dict.score(x_test_dict, y_test_dict)"
   ]
  },
  {
   "cell_type": "code",
   "execution_count": 217,
   "id": "19e95007",
   "metadata": {},
   "outputs": [
    {
     "name": "stdout",
     "output_type": "stream",
     "text": [
      "11.1 ms ± 88.4 µs per loop (mean ± std. dev. of 7 runs, 100 loops each)\n"
     ]
    }
   ],
   "source": [
    "%timeit model.score(x_test, y_test)"
   ]
  },
  {
   "cell_type": "code",
   "execution_count": 218,
   "id": "66e1edec",
   "metadata": {},
   "outputs": [
    {
     "name": "stdout",
     "output_type": "stream",
     "text": [
      "CPU times: total: 0 ns\n",
      "Wall time: 27.9 ms\n"
     ]
    },
    {
     "data": {
      "text/plain": [
       "0.8906"
      ]
     },
     "execution_count": 218,
     "metadata": {},
     "output_type": "execute_result"
    }
   ],
   "source": [
    "%time model.score(x_test, y_test)"
   ]
  },
  {
   "cell_type": "markdown",
   "id": "1fd4cf75",
   "metadata": {},
   "source": [
    "# Summary:\n",
    "Just as in basic assignment 4 using logistic regression without dictionary is more accurate but it takes more time to process.\n",
    "\n",
    "With dictionary it is much faster but we lose 23.8316% of accuracy.\n",
    "\n",
    "In this assignment I want to test accuracies and time coplexity of other methods. "
   ]
  },
  {
   "cell_type": "markdown",
   "id": "6f5d1255",
   "metadata": {},
   "source": [
    "# Note:\n",
    "Before we used CountVectorizer to analyze strings, but I found information that there is a better approach which is TF-IDF Vectorizer. I want to test it on the dataset of my choice.\n",
    "\n",
    "# TF-IDF Vectorizer\n",
    "TF-IDF Vectorizer is an method that transforms text into a meaningful representation of numbers which is used to fit machine algorithm for prediction. \\\n",
    "It may sound very familiar to CountVectorizer() since they are used for the same purpose, however there is a fundamental difference between the two methods.\n",
    "\n",
    "# Difference between TF-IDF Vectorizer and Count Vectorizer\n",
    "CountVectorizer() simply counts the number of times a word appears in a document (using a bag-of-words approach), while TfidfVectorizer() takes into account not only how many times a word appears in a document but also how important that word is to the whole sentence."
   ]
  },
  {
   "cell_type": "code",
   "execution_count": 219,
   "id": "078f0597",
   "metadata": {},
   "outputs": [],
   "source": [
    "# Transform reviews into vectors using TfidfVectorizer.\n",
    "\n",
    "from sklearn.feature_extraction.text import TfidfVectorizer\n",
    "vec = TfidfVectorizer()\n",
    "x_train_vec = vec.fit_transform(list(train[\"review\"]))\n",
    "x_test_vec = vec.transform(list(test[\"review\"]))"
   ]
  },
  {
   "cell_type": "code",
   "execution_count": 222,
   "id": "08fd7670",
   "metadata": {},
   "outputs": [
    {
     "data": {
      "text/html": [
       "<style>#sk-container-id-18 {color: black;background-color: white;}#sk-container-id-18 pre{padding: 0;}#sk-container-id-18 div.sk-toggleable {background-color: white;}#sk-container-id-18 label.sk-toggleable__label {cursor: pointer;display: block;width: 100%;margin-bottom: 0;padding: 0.3em;box-sizing: border-box;text-align: center;}#sk-container-id-18 label.sk-toggleable__label-arrow:before {content: \"▸\";float: left;margin-right: 0.25em;color: #696969;}#sk-container-id-18 label.sk-toggleable__label-arrow:hover:before {color: black;}#sk-container-id-18 div.sk-estimator:hover label.sk-toggleable__label-arrow:before {color: black;}#sk-container-id-18 div.sk-toggleable__content {max-height: 0;max-width: 0;overflow: hidden;text-align: left;background-color: #f0f8ff;}#sk-container-id-18 div.sk-toggleable__content pre {margin: 0.2em;color: black;border-radius: 0.25em;background-color: #f0f8ff;}#sk-container-id-18 input.sk-toggleable__control:checked~div.sk-toggleable__content {max-height: 200px;max-width: 100%;overflow: auto;}#sk-container-id-18 input.sk-toggleable__control:checked~label.sk-toggleable__label-arrow:before {content: \"▾\";}#sk-container-id-18 div.sk-estimator input.sk-toggleable__control:checked~label.sk-toggleable__label {background-color: #d4ebff;}#sk-container-id-18 div.sk-label input.sk-toggleable__control:checked~label.sk-toggleable__label {background-color: #d4ebff;}#sk-container-id-18 input.sk-hidden--visually {border: 0;clip: rect(1px 1px 1px 1px);clip: rect(1px, 1px, 1px, 1px);height: 1px;margin: -1px;overflow: hidden;padding: 0;position: absolute;width: 1px;}#sk-container-id-18 div.sk-estimator {font-family: monospace;background-color: #f0f8ff;border: 1px dotted black;border-radius: 0.25em;box-sizing: border-box;margin-bottom: 0.5em;}#sk-container-id-18 div.sk-estimator:hover {background-color: #d4ebff;}#sk-container-id-18 div.sk-parallel-item::after {content: \"\";width: 100%;border-bottom: 1px solid gray;flex-grow: 1;}#sk-container-id-18 div.sk-label:hover label.sk-toggleable__label {background-color: #d4ebff;}#sk-container-id-18 div.sk-serial::before {content: \"\";position: absolute;border-left: 1px solid gray;box-sizing: border-box;top: 0;bottom: 0;left: 50%;z-index: 0;}#sk-container-id-18 div.sk-serial {display: flex;flex-direction: column;align-items: center;background-color: white;padding-right: 0.2em;padding-left: 0.2em;position: relative;}#sk-container-id-18 div.sk-item {position: relative;z-index: 1;}#sk-container-id-18 div.sk-parallel {display: flex;align-items: stretch;justify-content: center;background-color: white;position: relative;}#sk-container-id-18 div.sk-item::before, #sk-container-id-18 div.sk-parallel-item::before {content: \"\";position: absolute;border-left: 1px solid gray;box-sizing: border-box;top: 0;bottom: 0;left: 50%;z-index: -1;}#sk-container-id-18 div.sk-parallel-item {display: flex;flex-direction: column;z-index: 1;position: relative;background-color: white;}#sk-container-id-18 div.sk-parallel-item:first-child::after {align-self: flex-end;width: 50%;}#sk-container-id-18 div.sk-parallel-item:last-child::after {align-self: flex-start;width: 50%;}#sk-container-id-18 div.sk-parallel-item:only-child::after {width: 0;}#sk-container-id-18 div.sk-dashed-wrapped {border: 1px dashed gray;margin: 0 0.4em 0.5em 0.4em;box-sizing: border-box;padding-bottom: 0.4em;background-color: white;}#sk-container-id-18 div.sk-label label {font-family: monospace;font-weight: bold;display: inline-block;line-height: 1.2em;}#sk-container-id-18 div.sk-label-container {text-align: center;}#sk-container-id-18 div.sk-container {/* jupyter's `normalize.less` sets `[hidden] { display: none; }` but bootstrap.min.css set `[hidden] { display: none !important; }` so we also need the `!important` here to be able to override the default hidden behavior on the sphinx rendered scikit-learn.org. See: https://github.com/scikit-learn/scikit-learn/issues/21755 */display: inline-block !important;position: relative;}#sk-container-id-18 div.sk-text-repr-fallback {display: none;}</style><div id=\"sk-container-id-18\" class=\"sk-top-container\"><div class=\"sk-text-repr-fallback\"><pre>LogisticRegression(max_iter=20000)</pre><b>In a Jupyter environment, please rerun this cell to show the HTML representation or trust the notebook. <br />On GitHub, the HTML representation is unable to render, please try loading this page with nbviewer.org.</b></div><div class=\"sk-container\" hidden><div class=\"sk-item\"><div class=\"sk-estimator sk-toggleable\"><input class=\"sk-toggleable__control sk-hidden--visually\" id=\"sk-estimator-id-18\" type=\"checkbox\" checked><label for=\"sk-estimator-id-18\" class=\"sk-toggleable__label sk-toggleable__label-arrow\">LogisticRegression</label><div class=\"sk-toggleable__content\"><pre>LogisticRegression(max_iter=20000)</pre></div></div></div></div></div>"
      ],
      "text/plain": [
       "LogisticRegression(max_iter=20000)"
      ]
     },
     "execution_count": 222,
     "metadata": {},
     "output_type": "execute_result"
    }
   ],
   "source": [
    "# Let's train LogisticRegression model on training data (with reviews processed this time with TfidfVectorizer, \n",
    "# ratings as they were).\n",
    "\n",
    "lr = LogisticRegression(solver='lbfgs', max_iter=20000)\n",
    "lr.fit(x_train_vec, y_train)"
   ]
  },
  {
   "cell_type": "code",
   "execution_count": 221,
   "id": "0b1c3056",
   "metadata": {},
   "outputs": [
    {
     "name": "stdout",
     "output_type": "stream",
     "text": [
      "Most positive words: dismiss, refreshing, complaint, wonderfully, hooked, canceled, fez, finest, gem, ideal, \n",
      "\n",
      "Most negative words: worst, bad, awful, waste, boring, terrible, poor, nothing, worse, dull, \n",
      "\n"
     ]
    }
   ],
   "source": [
    "# Get the indices of the sorted cofficients\n",
    "\n",
    "ascending_lr = np.argsort(lr.coef_.flatten()) \n",
    "descending_lr = ascending[::-1]\n",
    "\n",
    "vocab_lr = np.array(vec.get_feature_names_out())\n",
    "\n",
    "# Print most positive words\n",
    "print(\"Most positive words: \", end=\"\")\n",
    "for i in range(10):\n",
    "    print(vocab_lr[descending_lr[i]], end=\", \")\n",
    "print(\"\\n\")\n",
    "\n",
    "# Print most negative words\n",
    "print(\"Most negative words: \", end=\"\")\n",
    "for i in range(10):\n",
    "    print(vocab_lr[ascending_lr[i]], end=\", \")\n",
    "print(\"\\n\")\n"
   ]
  },
  {
   "cell_type": "code",
   "execution_count": 177,
   "id": "4ab64197",
   "metadata": {},
   "outputs": [
    {
     "data": {
      "text/plain": [
       "array([ 1,  1, -1, ...,  1,  1, -1], dtype=int64)"
      ]
     },
     "execution_count": 177,
     "metadata": {},
     "output_type": "execute_result"
    }
   ],
   "source": [
    "# Predict the sentiment of test data reviews\n",
    "lr.predict(x_test_vec)"
   ]
  },
  {
   "cell_type": "code",
   "execution_count": 178,
   "id": "501e64fc",
   "metadata": {},
   "outputs": [
    {
     "name": "stdout",
     "output_type": "stream",
     "text": [
      "[[0.08407257 0.91592743]\n",
      " [0.08829299 0.91170701]\n",
      " [0.9908133  0.0091867 ]\n",
      " ...\n",
      " [0.06632534 0.93367466]\n",
      " [0.05488536 0.94511464]\n",
      " [0.99610571 0.00389429]]\n"
     ]
    }
   ],
   "source": [
    "# Predict the sentiment of test data reviews in terms of probability.\n",
    "pred_lr = lr.predict_proba(x_test_vec)\n",
    "print(pred_lr)"
   ]
  },
  {
   "cell_type": "code",
   "execution_count": 179,
   "id": "9a224adf",
   "metadata": {},
   "outputs": [
    {
     "data": {
      "text/plain": [
       "0.8969"
      ]
     },
     "execution_count": 179,
     "metadata": {},
     "output_type": "execute_result"
    }
   ],
   "source": [
    "# Calculate the accuracy of predictions.\n",
    "lr.score(x_test_vec, y_test)"
   ]
  },
  {
   "cell_type": "code",
   "execution_count": 180,
   "id": "0a70c2ba",
   "metadata": {},
   "outputs": [
    {
     "name": "stdout",
     "output_type": "stream",
     "text": [
      "8.64 ms ± 126 µs per loop (mean ± std. dev. of 7 runs, 100 loops each)\n"
     ]
    }
   ],
   "source": [
    "%timeit lr.score(x_test_vec, y_test)"
   ]
  },
  {
   "cell_type": "code",
   "execution_count": 181,
   "id": "f79aa184",
   "metadata": {},
   "outputs": [
    {
     "name": "stdout",
     "output_type": "stream",
     "text": [
      "CPU times: total: 15.6 ms\n",
      "Wall time: 16 ms\n"
     ]
    },
    {
     "data": {
      "text/plain": [
       "0.8969"
      ]
     },
     "execution_count": 181,
     "metadata": {},
     "output_type": "execute_result"
    }
   ],
   "source": [
    "%time lr.score(x_test_vec, y_test)"
   ]
  },
  {
   "cell_type": "markdown",
   "id": "640e5f6c",
   "metadata": {},
   "source": [
    "# Summary:\n",
    "1) Using TfidfVectorizer() with Logistic Regression gives slightly better accuracy than with CountVectorizer(). \\\n",
    "The accuracy is higher by 1.2531%.\n",
    "2) CPU time (the time spent by CPU executing method code) is the same for both methods - 15.6 ms \n",
    "3) Wall time (the real-world time elapsed between a pair of events, for example: between method entry and method exit) differs for both methods \\\n",
    "For CountVectorizer() it is 19.5 ms \\\n",
    "For TfidfVectorizer() it is 16 ms (it is slightly less than previous method)"
   ]
  },
  {
   "cell_type": "markdown",
   "id": "dd7beeed",
   "metadata": {},
   "source": [
    "# Decision Trees\n",
    "In previous excercises we used Logistic regression model now we can try Decision Tree model. \\\n",
    "Decision tree is a flowchart-like tree structure, where each internal node denotes a test on an attribute, each branch represents an outcome of the test, and each leaf node holds a class label. "
   ]
  },
  {
   "cell_type": "code",
   "execution_count": 182,
   "id": "ba4bc040",
   "metadata": {},
   "outputs": [
    {
     "data": {
      "text/html": [
       "<style>#sk-container-id-15 {color: black;background-color: white;}#sk-container-id-15 pre{padding: 0;}#sk-container-id-15 div.sk-toggleable {background-color: white;}#sk-container-id-15 label.sk-toggleable__label {cursor: pointer;display: block;width: 100%;margin-bottom: 0;padding: 0.3em;box-sizing: border-box;text-align: center;}#sk-container-id-15 label.sk-toggleable__label-arrow:before {content: \"▸\";float: left;margin-right: 0.25em;color: #696969;}#sk-container-id-15 label.sk-toggleable__label-arrow:hover:before {color: black;}#sk-container-id-15 div.sk-estimator:hover label.sk-toggleable__label-arrow:before {color: black;}#sk-container-id-15 div.sk-toggleable__content {max-height: 0;max-width: 0;overflow: hidden;text-align: left;background-color: #f0f8ff;}#sk-container-id-15 div.sk-toggleable__content pre {margin: 0.2em;color: black;border-radius: 0.25em;background-color: #f0f8ff;}#sk-container-id-15 input.sk-toggleable__control:checked~div.sk-toggleable__content {max-height: 200px;max-width: 100%;overflow: auto;}#sk-container-id-15 input.sk-toggleable__control:checked~label.sk-toggleable__label-arrow:before {content: \"▾\";}#sk-container-id-15 div.sk-estimator input.sk-toggleable__control:checked~label.sk-toggleable__label {background-color: #d4ebff;}#sk-container-id-15 div.sk-label input.sk-toggleable__control:checked~label.sk-toggleable__label {background-color: #d4ebff;}#sk-container-id-15 input.sk-hidden--visually {border: 0;clip: rect(1px 1px 1px 1px);clip: rect(1px, 1px, 1px, 1px);height: 1px;margin: -1px;overflow: hidden;padding: 0;position: absolute;width: 1px;}#sk-container-id-15 div.sk-estimator {font-family: monospace;background-color: #f0f8ff;border: 1px dotted black;border-radius: 0.25em;box-sizing: border-box;margin-bottom: 0.5em;}#sk-container-id-15 div.sk-estimator:hover {background-color: #d4ebff;}#sk-container-id-15 div.sk-parallel-item::after {content: \"\";width: 100%;border-bottom: 1px solid gray;flex-grow: 1;}#sk-container-id-15 div.sk-label:hover label.sk-toggleable__label {background-color: #d4ebff;}#sk-container-id-15 div.sk-serial::before {content: \"\";position: absolute;border-left: 1px solid gray;box-sizing: border-box;top: 0;bottom: 0;left: 50%;z-index: 0;}#sk-container-id-15 div.sk-serial {display: flex;flex-direction: column;align-items: center;background-color: white;padding-right: 0.2em;padding-left: 0.2em;position: relative;}#sk-container-id-15 div.sk-item {position: relative;z-index: 1;}#sk-container-id-15 div.sk-parallel {display: flex;align-items: stretch;justify-content: center;background-color: white;position: relative;}#sk-container-id-15 div.sk-item::before, #sk-container-id-15 div.sk-parallel-item::before {content: \"\";position: absolute;border-left: 1px solid gray;box-sizing: border-box;top: 0;bottom: 0;left: 50%;z-index: -1;}#sk-container-id-15 div.sk-parallel-item {display: flex;flex-direction: column;z-index: 1;position: relative;background-color: white;}#sk-container-id-15 div.sk-parallel-item:first-child::after {align-self: flex-end;width: 50%;}#sk-container-id-15 div.sk-parallel-item:last-child::after {align-self: flex-start;width: 50%;}#sk-container-id-15 div.sk-parallel-item:only-child::after {width: 0;}#sk-container-id-15 div.sk-dashed-wrapped {border: 1px dashed gray;margin: 0 0.4em 0.5em 0.4em;box-sizing: border-box;padding-bottom: 0.4em;background-color: white;}#sk-container-id-15 div.sk-label label {font-family: monospace;font-weight: bold;display: inline-block;line-height: 1.2em;}#sk-container-id-15 div.sk-label-container {text-align: center;}#sk-container-id-15 div.sk-container {/* jupyter's `normalize.less` sets `[hidden] { display: none; }` but bootstrap.min.css set `[hidden] { display: none !important; }` so we also need the `!important` here to be able to override the default hidden behavior on the sphinx rendered scikit-learn.org. See: https://github.com/scikit-learn/scikit-learn/issues/21755 */display: inline-block !important;position: relative;}#sk-container-id-15 div.sk-text-repr-fallback {display: none;}</style><div id=\"sk-container-id-15\" class=\"sk-top-container\"><div class=\"sk-text-repr-fallback\"><pre>DecisionTreeClassifier(criterion=&#x27;entropy&#x27;, random_state=1)</pre><b>In a Jupyter environment, please rerun this cell to show the HTML representation or trust the notebook. <br />On GitHub, the HTML representation is unable to render, please try loading this page with nbviewer.org.</b></div><div class=\"sk-container\" hidden><div class=\"sk-item\"><div class=\"sk-estimator sk-toggleable\"><input class=\"sk-toggleable__control sk-hidden--visually\" id=\"sk-estimator-id-15\" type=\"checkbox\" checked><label for=\"sk-estimator-id-15\" class=\"sk-toggleable__label sk-toggleable__label-arrow\">DecisionTreeClassifier</label><div class=\"sk-toggleable__content\"><pre>DecisionTreeClassifier(criterion=&#x27;entropy&#x27;, random_state=1)</pre></div></div></div></div></div>"
      ],
      "text/plain": [
       "DecisionTreeClassifier(criterion='entropy', random_state=1)"
      ]
     },
     "execution_count": 182,
     "metadata": {},
     "output_type": "execute_result"
    }
   ],
   "source": [
    "# Fitting the Decision Tree model.\n",
    "from sklearn.tree import DecisionTreeClassifier\n",
    "t_model = DecisionTreeClassifier(criterion='entropy', random_state=1)\n",
    "t_model.fit(x_train, y_train)"
   ]
  },
  {
   "cell_type": "code",
   "execution_count": 183,
   "id": "30daaf5e",
   "metadata": {},
   "outputs": [
    {
     "data": {
      "text/plain": [
       "array([ 1,  1, -1, ...,  1,  1, -1], dtype=int64)"
      ]
     },
     "execution_count": 183,
     "metadata": {},
     "output_type": "execute_result"
    }
   ],
   "source": [
    "# Predict the sentiment of test data reviews\n",
    "t_model.predict(x_test)"
   ]
  },
  {
   "cell_type": "code",
   "execution_count": 184,
   "id": "8096588a",
   "metadata": {},
   "outputs": [
    {
     "data": {
      "text/plain": [
       "array([[0., 1.],\n",
       "       [0., 1.],\n",
       "       [1., 0.],\n",
       "       ...,\n",
       "       [0., 1.],\n",
       "       [0., 1.],\n",
       "       [1., 0.]])"
      ]
     },
     "execution_count": 184,
     "metadata": {},
     "output_type": "execute_result"
    }
   ],
   "source": [
    "# Predicting the probabilities.\n",
    "pred_model = t_model.predict_proba(x_test)\n",
    "pred_model"
   ]
  },
  {
   "cell_type": "code",
   "execution_count": 185,
   "id": "f00a427d",
   "metadata": {},
   "outputs": [
    {
     "data": {
      "text/plain": [
       "0.7214"
      ]
     },
     "execution_count": 185,
     "metadata": {},
     "output_type": "execute_result"
    }
   ],
   "source": [
    "# Let's measure accuracy of decision tree model: \n",
    "t_model.score(x_test, y_test)"
   ]
  },
  {
   "cell_type": "code",
   "execution_count": 191,
   "id": "309a4427",
   "metadata": {},
   "outputs": [
    {
     "data": {
      "image/png": "[encoded data removed]",
      "text/plain": [
       "<Figure size 1000x1000 with 1 Axes>"
      ]
     },
     "metadata": {},
     "output_type": "display_data"
    }
   ],
   "source": [
    "# Let's visualize our tree\n",
    "\n",
    "from sklearn import tree\n",
    "plt.figure(figsize=(10,10))\n",
    "tree.plot_tree(t_model, max_depth=3, fontsize=5)\n",
    "plt.show()"
   ]
  },
  {
   "cell_type": "markdown",
   "id": "58faca81",
   "metadata": {},
   "source": [
    "# Summary: \n",
    "In my case Decision Trees had much less accuracy than Logistic Regression. \\\n",
    "The accuracy decreased by 18.5595%.\n"
   ]
  }
 ],
 "metadata": {
  "kernelspec": {
   "display_name": "Python 3 (ipykernel)",
   "language": "python",
   "name": "python3"
  },
  "language_info": {
   "codemirror_mode": {
    "name": "ipython",
    "version": 3
   },
   "file_extension": ".py",
   "mimetype": "text/x-python",
   "name": "python",
   "nbconvert_exporter": "python",
   "pygments_lexer": "ipython3",
   "version": "3.10.6"
  }
 },
 "nbformat": 4,
 "nbformat_minor": 5
}
